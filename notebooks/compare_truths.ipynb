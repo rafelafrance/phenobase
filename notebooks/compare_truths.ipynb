{
 "cells": [
  {
   "cell_type": "code",
   "execution_count": 1,
   "id": "f94f1206-458a-4237-8379-bf50336e853f",
   "metadata": {},
   "outputs": [],
   "source": [
    "import sys\n",
    "\n",
    "sys.path.append(\"..\")"
   ]
  },
  {
   "cell_type": "code",
   "execution_count": 2,
   "id": "b785c263-8a4c-45bf-acdf-94be612a0592",
   "metadata": {},
   "outputs": [],
   "source": [
    "import csv\n",
    "import sqlite3\n",
    "from pathlib import Path\n",
    "\n",
    "import pandas as pd"
   ]
  },
  {
   "cell_type": "code",
   "execution_count": 3,
   "id": "ba30af95-ea64-441c-aded-5cfdc71f7b70",
   "metadata": {},
   "outputs": [],
   "source": [
    "TRAITS = [\"leaves\", \"fruits\", \"flowers\"]"
   ]
  },
  {
   "cell_type": "code",
   "execution_count": 4,
   "id": "8dc7fade-3750-4b13-88a2-efb769981a8c",
   "metadata": {},
   "outputs": [],
   "source": [
    "DB = Path(\"..\") / \"data\" / \"backups\" / \"angiosperms.sqlite\"\n",
    "CSV = Path(\"..\") / \"splits\" / \"splits.csv\""
   ]
  },
  {
   "cell_type": "code",
   "execution_count": 5,
   "id": "647c55eb-2581-4dbf-a806-9338692386b0",
   "metadata": {},
   "outputs": [],
   "source": [
    "MAP = {\n",
    "    \"flowering\": \"flowers\",\n",
    "    \"fruiting\": \"fruits\",\n",
    "    \"leaf_out\": \"leaves\",\n",
    "}"
   ]
  },
  {
   "cell_type": "code",
   "execution_count": 6,
   "id": "a28f1206-bf21-4064-b31a-51b4390e3b9c",
   "metadata": {},
   "outputs": [],
   "source": [
    "with sqlite3.connect(DB) as cxn:\n",
    "    cxn.row_factory = sqlite3.Row\n",
    "    rows = cxn.execute(\"select * from targets\")\n",
    "    targets = {}\n",
    "    for row in rows:\n",
    "        trait = MAP[row[\"trait\"]]\n",
    "        targets[(row[\"coreid\"], trait)] = int(row[\"target\"])"
   ]
  },
  {
   "cell_type": "code",
   "execution_count": 7,
   "id": "ca2bc087-1275-4267-b6ff-ea64f66130eb",
   "metadata": {},
   "outputs": [],
   "source": [
    "with sqlite3.connect(DB) as cxn:\n",
    "    cxn.row_factory = sqlite3.Row\n",
    "    rows = cxn.execute(\"select * from angiosperms\")\n",
    "    idigbio = {row[\"coreid\"]: dict(row) for row in rows}"
   ]
  },
  {
   "cell_type": "code",
   "execution_count": 8,
   "id": "6b788f56-28fb-4a48-be07-01c78f2efadf",
   "metadata": {},
   "outputs": [],
   "source": [
    "counts = {\n",
    "    \"flowers\": {\n",
    "        \"match\": 0,\n",
    "        \"mismatch\": 0,\n",
    "        \"missing\": 0,\n",
    "        \"other\": 0,\n",
    "        \"coreids\": [],\n",
    "        \"recs\": [],\n",
    "    },\n",
    "    \"fruits\": {\n",
    "        \"match\": 0,\n",
    "        \"mismatch\": 0,\n",
    "        \"missing\": 0,\n",
    "        \"other\": 0,\n",
    "        \"coreids\": [],\n",
    "        \"recs\": [],\n",
    "    },\n",
    "    \"leaves\": {\n",
    "        \"match\": 0,\n",
    "        \"mismatch\": 0,\n",
    "        \"missing\": 0,\n",
    "        \"other\": 0,\n",
    "        \"coreids\": [],\n",
    "        \"recs\": [],\n",
    "    },\n",
    "}"
   ]
  },
  {
   "cell_type": "code",
   "execution_count": 9,
   "id": "982e44bc-387a-4de5-b991-ca3118263efd",
   "metadata": {},
   "outputs": [],
   "source": [
    "with CSV.open() as f:\n",
    "    reader = csv.DictReader(f)\n",
    "    for row in reader:\n",
    "        coreid = Path(row[\"file\"]).stem\n",
    "        for trait in TRAITS:\n",
    "            target = targets.get((coreid, trait))\n",
    "            if target is None:\n",
    "                counts[trait][\"missing\"] += 1\n",
    "            elif row[trait] in \"NU\":\n",
    "                counts[trait][\"other\"] += 1\n",
    "            elif target == int(row[trait]):\n",
    "                counts[trait][\"match\"] += 1\n",
    "            else:\n",
    "                counts[trait][\"mismatch\"] += 1\n",
    "                counts[trait][\"coreids\"].append(coreid)\n",
    "                rec = dict(row)\n",
    "                rec[\"mismatch\"] = trait\n",
    "                counts[trait][\"recs\"].append(rec)"
   ]
  },
  {
   "cell_type": "code",
   "execution_count": 10,
   "id": "db7eb23b-6e70-41d5-a3ef-a23b69732e4f",
   "metadata": {},
   "outputs": [
    {
     "name": "stdout",
     "output_type": "stream",
     "text": [
      "leaves: Erin's notation matches        iDigBio  922\n",
      "leaves: Erin's notation does not match iDigBio   58\n",
      "leaves: Erin's notation missing from   iDigBio 5025\n",
      "leaves: Erin's notation is U or N                51\n",
      "leaves: match fraction = 0.94\n",
      "\n",
      "fruits: Erin's notation matches        iDigBio 1566\n",
      "fruits: Erin's notation does not match iDigBio  351\n",
      "fruits: Erin's notation missing from   iDigBio 3679\n",
      "fruits: Erin's notation is U or N               460\n",
      "fruits: match fraction = 0.82\n",
      "\n",
      "flowers: Erin's notation matches        iDigBio 2711\n",
      "flowers: Erin's notation does not match iDigBio  594\n",
      "flowers: Erin's notation missing from   iDigBio 2159\n",
      "flowers: Erin's notation is U or N               592\n",
      "flowers: match fraction = 0.82\n",
      "\n"
     ]
    }
   ],
   "source": [
    "for trait in TRAITS:\n",
    "    matches = counts[trait][\"match\"]\n",
    "    mismatch = counts[trait][\"mismatch\"]\n",
    "    missing = counts[trait][\"missing\"]\n",
    "    other = counts[trait][\"other\"]\n",
    "    print(f\"{trait}: Erin's notation matches        iDigBio {matches:4d}\")\n",
    "    print(f\"{trait}: Erin's notation does not match iDigBio {mismatch:4d}\")\n",
    "    print(f\"{trait}: Erin's notation missing from   iDigBio {missing:4d}\")\n",
    "    print(f\"{trait}: Erin's notation is U or N              {other:4d}\")\n",
    "    total = matches + mismatch\n",
    "    print(f\"{trait}: match fraction = {matches / total:0.2f}\")\n",
    "    print()"
   ]
  },
  {
   "cell_type": "code",
   "execution_count": 11,
   "id": "445edc85-ef2e-40fc-8311-7d20143a0146",
   "metadata": {},
   "outputs": [],
   "source": [
    "# for coreid in counts[\"flowers\"][\"coreids\"][:50]:\n",
    "#     name = f\"{coreid}.jpg\"\n",
    "#     src = Path(\"../../../images/herbarium_sheets\") / name\n",
    "#     dst = Path(\"../data/flowers_mismatch\") / name\n",
    "#     shutil.copy(src, dst)"
   ]
  },
  {
   "cell_type": "code",
   "execution_count": 12,
   "id": "a8302f44-c7e1-4f57-af8a-f89250983169",
   "metadata": {},
   "outputs": [],
   "source": [
    "# for coreid in counts[\"fruits\"][\"coreids\"][:50]:\n",
    "#     name = f\"{coreid}.jpg\"\n",
    "#     src = Path(\"../../../images/herbarium_sheets\") / name\n",
    "#     dst = Path(\"../data/fruits_mismatch\") / name\n",
    "#     shutil.copy(src, dst)"
   ]
  },
  {
   "cell_type": "code",
   "execution_count": 13,
   "id": "ee656428-0df2-4dde-8397-51d8d8874a5d",
   "metadata": {},
   "outputs": [],
   "source": [
    "records = counts[\"flowers\"][\"recs\"][:50] + counts[\"fruits\"][\"recs\"][:50]"
   ]
  },
  {
   "cell_type": "code",
   "execution_count": 14,
   "id": "af5106a3-1dec-47b2-98a1-6094ad630616",
   "metadata": {},
   "outputs": [],
   "source": [
    "for rec in records:\n",
    "    coreid = rec[\"file\"].split(\".\")[0]\n",
    "    rec |= idigbio[coreid]"
   ]
  },
  {
   "cell_type": "code",
   "execution_count": 15,
   "id": "bb468c14-aac1-4b1a-8503-cffd8d5d83dc",
   "metadata": {},
   "outputs": [],
   "source": [
    "df = pd.DataFrame(records)\n",
    "df.to_csv(\"../data/mismatch.csv\", index=False)"
   ]
  },
  {
   "cell_type": "code",
   "execution_count": null,
   "id": "f5a994ee-db24-4f55-84fc-2ff7d6bb62e2",
   "metadata": {},
   "outputs": [],
   "source": []
  }
 ],
 "metadata": {
  "kernelspec": {
   "display_name": "Python 3 (ipykernel)",
   "language": "python",
   "name": "python3"
  },
  "language_info": {
   "codemirror_mode": {
    "name": "ipython",
    "version": 3
   },
   "file_extension": ".py",
   "mimetype": "text/x-python",
   "name": "python",
   "nbconvert_exporter": "python",
   "pygments_lexer": "ipython3",
   "version": "3.11.10"
  }
 },
 "nbformat": 4,
 "nbformat_minor": 5
}
