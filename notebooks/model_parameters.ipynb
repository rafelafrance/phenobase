{
 "cells": [
  {
   "cell_type": "markdown",
   "id": "3c098828-f946-42b2-aa4c-a31290d2837a",
   "metadata": {},
   "source": [
    "# Model parameters\n",
    "\n",
    "The model itself:\n",
    "- ViTMAE base 224 - I want to revisit this with more data and maybe a larger model\n",
    "- ViT base 224\n",
    "- ViT large 224\n",
    "- ViT base 384\n",
    "- ViT large 384\n",
    "- EfficientNet 456 - I use this one locally\n",
    "- EfficientNet 528 - I use this one on HiPerGator\n",
    "- Larger EfficientNets are not fitting on a single A100 GPU.\n",
    "\n",
    "Use of positive weights, which is the dataset's ratio of the number of negative training cases over the positive training cases.\n",
    "\n",
    "The save strategy. Save a model when one of the following is high/low for the evaluation dataset:\n",
    "- loss (save on low)\n",
    "- accuracy (not useful)\n",
    "- F1 - This one works well.\n",
    "- Precision (equals PPV) - This one seems to work the best.\n",
    "\n",
    "Learning rate. I haven't changed this yet.\n",
    "\n",
    "How many traits will the model predict:\n",
    "- One of flowers, fruits, leaves.\n",
    "- All three traits.\n",
    "\n",
    "# Parameters for choosing a model\n",
    "\n",
    "Choose a models with the best PPV (aka precision).\n",
    "Out of that set choose the model with the least number of records declared as equivocal.\n",
    "- The fraction threshold is set to 0.75 (pretty low) Records not equivocal over total records.\n",
    "- The recall threshold is also set to 0.75. I needed to do this to make sure the models don't \"cheat\".\n",
    "  - Cheating is when most records are classified as negative, which will drive up the PPV.\n"
   ]
  },
  {
   "cell_type": "code",
   "execution_count": null,
   "id": "5fa4d580-1787-4408-9803-99260c607519",
   "metadata": {},
   "outputs": [],
   "source": []
  }
 ],
 "metadata": {
  "kernelspec": {
   "display_name": "Python 3 (ipykernel)",
   "language": "python",
   "name": "python3"
  },
  "language_info": {
   "codemirror_mode": {
    "name": "ipython",
    "version": 3
   },
   "file_extension": ".py",
   "mimetype": "text/x-python",
   "name": "python",
   "nbconvert_exporter": "python",
   "pygments_lexer": "ipython3",
   "version": "3.11.10"
  }
 },
 "nbformat": 4,
 "nbformat_minor": 5
}
