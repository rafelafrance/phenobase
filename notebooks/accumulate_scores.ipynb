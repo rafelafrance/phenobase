{
 "cells": [
  {
   "cell_type": "markdown",
   "id": "8cef5271-0213-477f-a913-5a467ca2a437",
   "metadata": {},
   "source": [
    "# Accumulate scores\n",
    "\n",
    "Take raw scores gotten using score_models.py and accumulate the results for each checkpoint."
   ]
  },
  {
   "cell_type": "code",
   "execution_count": 1,
   "id": "ab6af54c-04f9-4c64-b380-fce23f25cde4",
   "metadata": {},
   "outputs": [],
   "source": [
    "import sys\n",
    "\n",
    "sys.path.append(\"..\")"
   ]
  },
  {
   "cell_type": "code",
   "execution_count": 2,
   "id": "f3246f4f-c6bf-4797-87be-3cc5baa8d376",
   "metadata": {},
   "outputs": [],
   "source": [
    "from dataclasses import asdict, dataclass\n",
    "from pathlib import Path\n",
    "\n",
    "import numpy as np\n",
    "import pandas as pd\n",
    "from tqdm import tqdm\n",
    "\n",
    "from phenobase.pylib import util\n",
    "from phenobase.pylib.binary_metrics import Metrics"
   ]
  },
  {
   "cell_type": "code",
   "execution_count": 3,
   "id": "0b2a3659-7b8e-4c66-a7aa-fb0fc85aea09",
   "metadata": {
    "scrolled": true
   },
   "outputs": [],
   "source": [
    "CSV = Path(\"..\") / \"data\" / \"score.csv\"\n",
    "OUT = Path(\"..\") / \"data\" / \"thresholds.csv\"\n",
    "\n",
    "DF = pd.read_csv(CSV)\n",
    "PRETRAINED = DF[\"pretrained\"].unique()\n",
    "# PRETRAINED"
   ]
  },
  {
   "cell_type": "code",
   "execution_count": 4,
   "id": "48c0daec-158f-41b9-a09b-a91782a391e8",
   "metadata": {},
   "outputs": [],
   "source": [
    "@dataclass\n",
    "class Thresholds:\n",
    "    checkpoint: str\n",
    "    trait: str\n",
    "    threshold: float = None\n",
    "    total: int = 0\n",
    "    ge_threshold: int = 0\n",
    "    fract: float = 0.0\n",
    "    tp: int = 0\n",
    "    tn: int = 0\n",
    "    fp: int = 0\n",
    "    fn: int = 0"
   ]
  },
  {
   "cell_type": "code",
   "execution_count": 5,
   "id": "4154256f-1667-48c7-a720-78c12f6a0a43",
   "metadata": {},
   "outputs": [
    {
     "name": "stderr",
     "output_type": "stream",
     "text": [
      "100%|███████████████████████████████████████████████████████████████████████████████████████| 120/120 [00:03<00:00, 33.30it/s]\n"
     ]
    }
   ],
   "source": [
    "step = 0.01\n",
    "thresholds = []\n",
    "\n",
    "for checkpoint in tqdm(PRETRAINED):\n",
    "    df = DF.loc[DF[\"pretrained\"] == checkpoint, :]\n",
    "    for trait in util.TRAITS:\n",
    "        metrics = Metrics()\n",
    "        metrics.y_true = df[f\"{trait}_true\"]\n",
    "        metrics.y_pred = df[f\"{trait}_pred\"]\n",
    "        for threshold_hi in np.arange(0.5, 1.0, step):\n",
    "            metrics.remove_equivocal(threshold_hi=threshold_hi)\n",
    "            rec = Thresholds(\n",
    "                checkpoint=checkpoint,\n",
    "                trait=trait,\n",
    "                threshold=threshold_hi,\n",
    "                total=df.shape[0],\n",
    "                ge_threshold=metrics.total,\n",
    "                fract=metrics.total / df.shape[0],\n",
    "                tp=metrics.tp,\n",
    "                tn=metrics.tn,\n",
    "                fp=metrics.fp,\n",
    "                fn=metrics.fn,\n",
    "            )\n",
    "            thresholds.append(asdict(rec))"
   ]
  },
  {
   "cell_type": "code",
   "execution_count": 6,
   "id": "5dc124cf-9e36-423b-9177-534cfb4a690d",
   "metadata": {},
   "outputs": [
    {
     "data": {
      "text/html": [
       "<div>\n",
       "<style scoped>\n",
       "    .dataframe tbody tr th:only-of-type {\n",
       "        vertical-align: middle;\n",
       "    }\n",
       "\n",
       "    .dataframe tbody tr th {\n",
       "        vertical-align: top;\n",
       "    }\n",
       "\n",
       "    .dataframe thead th {\n",
       "        text-align: right;\n",
       "    }\n",
       "</style>\n",
       "<table border=\"1\" class=\"dataframe\">\n",
       "  <thead>\n",
       "    <tr style=\"text-align: right;\">\n",
       "      <th></th>\n",
       "      <th>checkpoint</th>\n",
       "      <th>trait</th>\n",
       "      <th>threshold</th>\n",
       "      <th>total</th>\n",
       "      <th>ge_threshold</th>\n",
       "      <th>fract</th>\n",
       "      <th>tp</th>\n",
       "      <th>tn</th>\n",
       "      <th>fp</th>\n",
       "      <th>fn</th>\n",
       "      <th>accuracy</th>\n",
       "      <th>recall</th>\n",
       "      <th>ppv</th>\n",
       "    </tr>\n",
       "  </thead>\n",
       "  <tbody>\n",
       "    <tr>\n",
       "      <th>0</th>\n",
       "      <td>data/tuned/effnet_528_f1/checkpoint-4736</td>\n",
       "      <td>flowers</td>\n",
       "      <td>0.50</td>\n",
       "      <td>800</td>\n",
       "      <td>800.0</td>\n",
       "      <td>1.00000</td>\n",
       "      <td>402.0</td>\n",
       "      <td>205.0</td>\n",
       "      <td>153.0</td>\n",
       "      <td>40.0</td>\n",
       "      <td>0.758750</td>\n",
       "      <td>0.909502</td>\n",
       "      <td>0.724324</td>\n",
       "    </tr>\n",
       "    <tr>\n",
       "      <th>1</th>\n",
       "      <td>data/tuned/effnet_528_f1/checkpoint-4736</td>\n",
       "      <td>flowers</td>\n",
       "      <td>0.51</td>\n",
       "      <td>800</td>\n",
       "      <td>798.0</td>\n",
       "      <td>0.99750</td>\n",
       "      <td>401.0</td>\n",
       "      <td>205.0</td>\n",
       "      <td>152.0</td>\n",
       "      <td>40.0</td>\n",
       "      <td>0.759398</td>\n",
       "      <td>0.909297</td>\n",
       "      <td>0.725136</td>\n",
       "    </tr>\n",
       "    <tr>\n",
       "      <th>2</th>\n",
       "      <td>data/tuned/effnet_528_f1/checkpoint-4736</td>\n",
       "      <td>flowers</td>\n",
       "      <td>0.52</td>\n",
       "      <td>800</td>\n",
       "      <td>797.0</td>\n",
       "      <td>0.99625</td>\n",
       "      <td>401.0</td>\n",
       "      <td>205.0</td>\n",
       "      <td>151.0</td>\n",
       "      <td>40.0</td>\n",
       "      <td>0.760351</td>\n",
       "      <td>0.909297</td>\n",
       "      <td>0.726449</td>\n",
       "    </tr>\n",
       "    <tr>\n",
       "      <th>3</th>\n",
       "      <td>data/tuned/effnet_528_f1/checkpoint-4736</td>\n",
       "      <td>flowers</td>\n",
       "      <td>0.53</td>\n",
       "      <td>800</td>\n",
       "      <td>796.0</td>\n",
       "      <td>0.99500</td>\n",
       "      <td>400.0</td>\n",
       "      <td>205.0</td>\n",
       "      <td>151.0</td>\n",
       "      <td>40.0</td>\n",
       "      <td>0.760050</td>\n",
       "      <td>0.909091</td>\n",
       "      <td>0.725953</td>\n",
       "    </tr>\n",
       "    <tr>\n",
       "      <th>4</th>\n",
       "      <td>data/tuned/effnet_528_f1/checkpoint-4736</td>\n",
       "      <td>flowers</td>\n",
       "      <td>0.54</td>\n",
       "      <td>800</td>\n",
       "      <td>796.0</td>\n",
       "      <td>0.99500</td>\n",
       "      <td>400.0</td>\n",
       "      <td>205.0</td>\n",
       "      <td>151.0</td>\n",
       "      <td>40.0</td>\n",
       "      <td>0.760050</td>\n",
       "      <td>0.909091</td>\n",
       "      <td>0.725953</td>\n",
       "    </tr>\n",
       "  </tbody>\n",
       "</table>\n",
       "</div>"
      ],
      "text/plain": [
       "                                 checkpoint    trait  threshold  total  \\\n",
       "0  data/tuned/effnet_528_f1/checkpoint-4736  flowers       0.50    800   \n",
       "1  data/tuned/effnet_528_f1/checkpoint-4736  flowers       0.51    800   \n",
       "2  data/tuned/effnet_528_f1/checkpoint-4736  flowers       0.52    800   \n",
       "3  data/tuned/effnet_528_f1/checkpoint-4736  flowers       0.53    800   \n",
       "4  data/tuned/effnet_528_f1/checkpoint-4736  flowers       0.54    800   \n",
       "\n",
       "   ge_threshold    fract     tp     tn     fp    fn  accuracy    recall  \\\n",
       "0         800.0  1.00000  402.0  205.0  153.0  40.0  0.758750  0.909502   \n",
       "1         798.0  0.99750  401.0  205.0  152.0  40.0  0.759398  0.909297   \n",
       "2         797.0  0.99625  401.0  205.0  151.0  40.0  0.760351  0.909297   \n",
       "3         796.0  0.99500  400.0  205.0  151.0  40.0  0.760050  0.909091   \n",
       "4         796.0  0.99500  400.0  205.0  151.0  40.0  0.760050  0.909091   \n",
       "\n",
       "        ppv  \n",
       "0  0.724324  \n",
       "1  0.725136  \n",
       "2  0.726449  \n",
       "3  0.725953  \n",
       "4  0.725953  "
      ]
     },
     "execution_count": 6,
     "metadata": {},
     "output_type": "execute_result"
    }
   ],
   "source": [
    "df2 = pd.DataFrame(thresholds)\n",
    "df2.head()"
   ]
  },
  {
   "cell_type": "code",
   "execution_count": 7,
   "id": "3218ad89-d63e-4e48-bdee-00f9aefb0922",
   "metadata": {},
   "outputs": [],
   "source": [
    "df2.to_csv(OUT, index=False)"
   ]
  },
  {
   "cell_type": "code",
   "execution_count": null,
   "id": "5fa5d242-0065-48a8-8e3b-0060c8de5fa7",
   "metadata": {},
   "outputs": [],
   "source": []
  }
 ],
 "metadata": {
  "kernelspec": {
   "display_name": "Python 3 (ipykernel)",
   "language": "python",
   "name": "python3"
  },
  "language_info": {
   "codemirror_mode": {
    "name": "ipython",
    "version": 3
   },
   "file_extension": ".py",
   "mimetype": "text/x-python",
   "name": "python",
   "nbconvert_exporter": "python",
   "pygments_lexer": "ipython3",
   "version": "3.11.10"
  }
 },
 "nbformat": 4,
 "nbformat_minor": 5
}
