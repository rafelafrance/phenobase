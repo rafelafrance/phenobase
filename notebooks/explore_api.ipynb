{
 "cells": [
  {
   "cell_type": "markdown",
   "id": "cc78b9f1-04d4-4a22-a78c-31ab7c994d5a",
   "metadata": {},
   "source": [
    "# Explore the iNaturalist API"
   ]
  },
  {
   "cell_type": "code",
   "execution_count": 1,
   "id": "51247a85-2a95-478f-9d1b-41575a161e37",
   "metadata": {
    "tags": []
   },
   "outputs": [],
   "source": [
    "import sys\n",
    "\n",
    "sys.path.append(\"..\")"
   ]
  },
  {
   "cell_type": "code",
   "execution_count": 16,
   "id": "75dd400f-9f95-4e1b-ba05-67f39b3cbf33",
   "metadata": {
    "tags": []
   },
   "outputs": [],
   "source": [
    "import json\n",
    "import time\n",
    "from pathlib import Path\n",
    "from types import SimpleNamespace\n",
    "\n",
    "import polars as pl\n",
    "import requests\n",
    "from tqdm import tqdm"
   ]
  },
  {
   "cell_type": "code",
   "execution_count": 3,
   "id": "14b4b416-5453-403c-bf75-24bcd03d7a18",
   "metadata": {
    "tags": []
   },
   "outputs": [],
   "source": [
    "DATA_DIR = Path(\"..\") / \"data\""
   ]
  },
  {
   "cell_type": "code",
   "execution_count": 4,
   "id": "6bff8c83-e162-43d6-9e08-093900e737d8",
   "metadata": {
    "tags": []
   },
   "outputs": [],
   "source": [
    "args = SimpleNamespace(\n",
    "    taxa=DATA_DIR / \"inat\" / \"taxa.csv.gz\",\n",
    "    base_url='https://api.inaturalist.org/v1/observations?',\n",
    "    plantae=47126,\n",
    "    obs_dir=DATA_DIR / \"inat\" / \"obs\",\n",
    "    per_page=100,\n",
    ")"
   ]
  },
  {
   "cell_type": "code",
   "execution_count": 5,
   "id": "e85d4bb0-8f18-4b14-95cb-ebbecbc173f9",
   "metadata": {
    "tags": []
   },
   "outputs": [],
   "source": [
    "# !aws s3 cp s3://inaturalist-open-data/taxa.csv.gz $args.taxa --no-sign-request"
   ]
  },
  {
   "cell_type": "markdown",
   "id": "e54faab5-6804-48cb-824a-18bbe5b366c8",
   "metadata": {},
   "source": [
    "## Get target taxon IDs"
   ]
  },
  {
   "cell_type": "code",
   "execution_count": 6,
   "id": "07f21ab8-7ee0-45c6-890b-709bdccff754",
   "metadata": {
    "tags": []
   },
   "outputs": [],
   "source": [
    "taxa_df = pl.read_csv(\n",
    "    args.taxa,\n",
    "    sep=\"\\t\",\n",
    "    dtypes=[pl.Int64, pl.Utf8, pl.Float32, pl.Utf8, pl.Utf8, pl.Boolean],\n",
    ").lazy()"
   ]
  },
  {
   "cell_type": "markdown",
   "id": "c12950df-d673-47cf-bfb2-0f5dbaf994ff",
   "metadata": {},
   "source": [
    "### Get orders"
   ]
  },
  {
   "cell_type": "code",
   "execution_count": 7,
   "id": "cec68a1a-a044-4232-a077-7e27767a2b5a",
   "metadata": {
    "tags": []
   },
   "outputs": [
    {
     "data": {
      "text/html": [
       "<div>\n",
       "<style scoped>\n",
       "    .dataframe tbody tr th:only-of-type {\n",
       "        vertical-align: middle;\n",
       "    }\n",
       "\n",
       "    .dataframe tbody tr th {\n",
       "        vertical-align: top;\n",
       "    }\n",
       "\n",
       "    .dataframe thead th {\n",
       "        text-align: right;\n",
       "    }\n",
       "\n",
       "    .dataframe td {\n",
       "        white-space: pre;\n",
       "    }\n",
       "\n",
       "    .dataframe td {\n",
       "        padding-top: 0;\n",
       "    }\n",
       "\n",
       "    .dataframe td {\n",
       "        padding-bottom: 0;\n",
       "    }\n",
       "\n",
       "    .dataframe td {\n",
       "        line-height: 95%;\n",
       "    }\n",
       "</style>\n",
       "<table border=\"1\" class=\"dataframe\">\n",
       "<small>shape: (10,)</small>\n",
       "<thead>\n",
       "<tr>\n",
       "<th>\n",
       "taxon_id\n",
       "</th>\n",
       "</tr>\n",
       "<tr>\n",
       "<td>\n",
       "i64\n",
       "</td>\n",
       "</tr>\n",
       "</thead>\n",
       "<tbody>\n",
       "<tr>\n",
       "<td>\n",
       "71270\n",
       "</td>\n",
       "</tr>\n",
       "<tr>\n",
       "<td>\n",
       "152660\n",
       "</td>\n",
       "</tr>\n",
       "<tr>\n",
       "<td>\n",
       "550940\n",
       "</td>\n",
       "</tr>\n",
       "<tr>\n",
       "<td>\n",
       "509462\n",
       "</td>\n",
       "</tr>\n",
       "<tr>\n",
       "<td>\n",
       "152661\n",
       "</td>\n",
       "</tr>\n",
       "<tr>\n",
       "<td>\n",
       "48073\n",
       "</td>\n",
       "</tr>\n",
       "<tr>\n",
       "<td>\n",
       "152141\n",
       "</td>\n",
       "</tr>\n",
       "<tr>\n",
       "<td>\n",
       "152709\n",
       "</td>\n",
       "</tr>\n",
       "<tr>\n",
       "<td>\n",
       "152710\n",
       "</td>\n",
       "</tr>\n",
       "<tr>\n",
       "<td>\n",
       "56329\n",
       "</td>\n",
       "</tr>\n",
       "</tbody>\n",
       "</table>\n",
       "</div>"
      ],
      "text/plain": [
       "shape: (10,)\n",
       "Series: 'taxon_id' [i64]\n",
       "[\n",
       "\t71270\n",
       "\t152660\n",
       "\t550940\n",
       "\t509462\n",
       "\t152661\n",
       "\t48073\n",
       "\t152141\n",
       "\t152709\n",
       "\t152710\n",
       "\t56329\n",
       "]"
      ]
     },
     "execution_count": 7,
     "metadata": {},
     "output_type": "execute_result"
    }
   ],
   "source": [
    "orders = (\n",
    "    taxa_df.filter(\n",
    "        pl.col(\"ancestry\").str.contains(f\"/{args.plantae}/\", literal=True)\n",
    "    )\n",
    "    .filter(pl.col(\"rank\") == \"order\")\n",
    "    .sort(\"name\")\n",
    "    .collect()\n",
    ")\n",
    "orders = orders.to_series(0)\n",
    "orders.head()"
   ]
  },
  {
   "cell_type": "code",
   "execution_count": 8,
   "id": "8dc2144b-43c4-46d9-86b3-f9bc9401b35c",
   "metadata": {
    "tags": []
   },
   "outputs": [
    {
     "data": {
      "text/plain": [
       "(269,)"
      ]
     },
     "execution_count": 8,
     "metadata": {},
     "output_type": "execute_result"
    }
   ],
   "source": [
    "orders.shape"
   ]
  },
  {
   "cell_type": "markdown",
   "id": "eb12d224-4d71-4c6e-8970-a5e0416d0119",
   "metadata": {},
   "source": [
    "### Map order IDs to names"
   ]
  },
  {
   "cell_type": "code",
   "execution_count": 9,
   "id": "eff94c81-ab42-45a1-a208-5ae6ec9a7625",
   "metadata": {
    "tags": []
   },
   "outputs": [
    {
     "data": {
      "text/plain": [
       "269"
      ]
     },
     "execution_count": 9,
     "metadata": {},
     "output_type": "execute_result"
    }
   ],
   "source": [
    "name = (\n",
    "    taxa_df.filter(\n",
    "        pl.col(\"ancestry\").str.contains(f\"/{args.plantae}/\", literal=True)\n",
    "    )\n",
    "    .filter(pl.col(\"rank\") == \"order\")\n",
    "    .select([\"taxon_id\", \"name\"])\n",
    "    .collect()\n",
    ")\n",
    "\n",
    "name = name.to_dict()\n",
    "name = {k: v for k, v in zip(name[\"taxon_id\"], name[\"name\"])}\n",
    "len(name)"
   ]
  },
  {
   "cell_type": "code",
   "execution_count": 10,
   "id": "3248aa71-32f8-4b5a-9cc7-8476d84da609",
   "metadata": {
    "tags": []
   },
   "outputs": [
    {
     "name": "stdout",
     "output_type": "stream",
     "text": [
      "48808 Laurales\n",
      "47363 Gentianales\n",
      "47218 Asparagales\n",
      "47195 Cornales\n",
      "48232 Ranunculales\n"
     ]
    }
   ],
   "source": [
    "for i, taxon_id in enumerate(name.keys()):\n",
    "    print(f\"{taxon_id} {name[taxon_id]}\")\n",
    "    if i == 4:\n",
    "        break"
   ]
  },
  {
   "cell_type": "markdown",
   "id": "7bcb9b71-2f8d-4b00-b7f1-73e049dfcccd",
   "metadata": {},
   "source": [
    "### Get species for each order"
   ]
  },
  {
   "cell_type": "code",
   "execution_count": 11,
   "id": "2c5021a4-8452-48d9-9d5d-36f604a3c52b",
   "metadata": {
    "tags": []
   },
   "outputs": [],
   "source": [
    "taxa = {}\n",
    "for order in orders:\n",
    "    ancestry = f\"/{order}/\"\n",
    "    df = (\n",
    "        taxa_df.filter(pl.col(\"ancestry\").str.contains(ancestry, literal=True))\n",
    "        .filter(pl.col(\"rank\") == \"species\")\n",
    "        .collect()\n",
    "    )\n",
    "    taxa[order] = df.to_series(0)"
   ]
  },
  {
   "cell_type": "code",
   "execution_count": 12,
   "id": "511349e3-00f0-44fc-9924-675e85e42432",
   "metadata": {
    "tags": []
   },
   "outputs": [
    {
     "name": "stdout",
     "output_type": "stream",
     "text": [
      "71270: 3\n",
      "152660: 23\n",
      "550940: 0\n",
      "509462: 2\n",
      "152661: 5\n"
     ]
    },
    {
     "data": {
      "text/plain": [
       "283665"
      ]
     },
     "execution_count": 12,
     "metadata": {},
     "output_type": "execute_result"
    }
   ],
   "source": [
    "for i, (order, species) in enumerate(taxa.items()):\n",
    "    print(f\"{order}: {len(species)}\")\n",
    "    if i == 4:\n",
    "        break\n",
    "\n",
    "sum(len(v) for k, v in taxa.items())"
   ]
  },
  {
   "cell_type": "markdown",
   "id": "32e5bd8b-8a09-40a9-ac55-a095d9a5f6da",
   "metadata": {
    "tags": []
   },
   "source": [
    "## Make API requests"
   ]
  },
  {
   "cell_type": "code",
   "execution_count": 14,
   "id": "c4fe082d-72c0-4001-ab91-d12e7e755d15",
   "metadata": {
    "tags": []
   },
   "outputs": [],
   "source": [
    "def get_url(taxon_id, page=1):\n",
    "    url = '&'.join([\n",
    "        args.base_url,\n",
    "        \"photos=true\",\n",
    "        \"quality_grade=research\",\n",
    "        f\"taxon_id={taxon_id}\",\n",
    "        \"term_id=12\",\n",
    "        f\"per_page={args.per_page}\",\n",
    "        f\"page={page}\",\n",
    "        \"order=desc\",\n",
    "        \"order_by=created_at\",\n",
    "        \"photo_license=cc0,cc-by,cc-by-nc,cc-by-sa\",\n",
    "    ])\n",
    "    return url"
   ]
  },
  {
   "cell_type": "code",
   "execution_count": 17,
   "id": "28109d34-9a95-4a03-b9aa-2e060dfe5631",
   "metadata": {},
   "outputs": [
    {
     "name": "stderr",
     "output_type": "stream",
     "text": [
      "100%|████████████████████████████████████████████████████████████████████████████████████████| 269/269 [06:04<00:00,  1.35s/it]\n"
     ]
    }
   ],
   "source": [
    "for order, species in tqdm(taxa.items()):\n",
    "    if len(species) == 0:\n",
    "        continue\n",
    "    url = get_url(order)\n",
    "    path = args.obs_dir / f\"order_{name[order]}.json\"\n",
    "    result = requests.get(url)\n",
    "    if len(result.json()[\"results\"]) == 0:\n",
    "        continue\n",
    "    with open(path, \"w\") as out_file:\n",
    "        json.dump(result.json(), out_file)\n",
    "    time.sleep(3)"
   ]
  },
  {
   "cell_type": "code",
   "execution_count": null,
   "id": "f96b11e8-9bfd-41ba-89b2-153e3dc206a8",
   "metadata": {},
   "outputs": [],
   "source": []
  }
 ],
 "metadata": {
  "kernelspec": {
   "display_name": "Python 3 (ipykernel)",
   "language": "python",
   "name": "python3"
  },
  "language_info": {
   "codemirror_mode": {
    "name": "ipython",
    "version": 3
   },
   "file_extension": ".py",
   "mimetype": "text/x-python",
   "name": "python",
   "nbconvert_exporter": "python",
   "pygments_lexer": "ipython3",
   "version": "3.10.6"
  }
 },
 "nbformat": 4,
 "nbformat_minor": 5
}
