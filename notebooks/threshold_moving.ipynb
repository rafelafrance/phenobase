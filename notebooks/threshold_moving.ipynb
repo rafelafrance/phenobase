{
 "cells": [
  {
   "cell_type": "markdown",
   "id": "42a21405-fc6f-4cb7-ae45-a726ba454136",
   "metadata": {},
   "source": [
    "# Threshold moving\n",
    "- Maximize the positive predictive value (aka precision)\n",
    "- While also maximizing true positive rate (aka sensitivity or recall)\n",
    "- While minimizing the number of removed samples"
   ]
  },
  {
   "cell_type": "code",
   "execution_count": 1,
   "id": "fdff545d-7aad-4cc9-b93d-e7109bd26898",
   "metadata": {},
   "outputs": [],
   "source": [
    "import sys\n",
    "\n",
    "sys.path.append(\"..\")"
   ]
  },
  {
   "cell_type": "code",
   "execution_count": 2,
   "id": "c3d98624-c1b4-4822-ad59-fbb4be9404ec",
   "metadata": {},
   "outputs": [],
   "source": [
    "from collections import defaultdict\n",
    "from pathlib import Path\n",
    "\n",
    "import matplotlib.pyplot as plt\n",
    "import numpy as np\n",
    "import pandas as pd\n",
    "from sklearn.metrics import PrecisionRecallDisplay, precision_recall_curve\n",
    "\n",
    "from phenobase.pylib.binary_metrics import Metrics\n",
    "from phenobase.pylib import util"
   ]
  },
  {
   "cell_type": "code",
   "execution_count": 3,
   "id": "2d961c3f-8786-4823-9bf6-38b72c438204",
   "metadata": {},
   "outputs": [],
   "source": [
    "CSV = Path(\"..\") / \"data\" / \"score.csv\"\n",
    "OUT = Path(\"..\") / \"data\" / \"thresholds.csv\"\n",
    "\n",
    "DF = pd.read_csv(CSV)\n",
    "# DF.head()"
   ]
  },
  {
   "cell_type": "code",
   "execution_count": 4,
   "id": "973495bb-7710-48a3-8553-414d00f9574f",
   "metadata": {
    "scrolled": true
   },
   "outputs": [],
   "source": [
    "CHECKPOINTS = DF[\"checkpoint\"].unique()\n",
    "# CHECKPOINTS"
   ]
  },
  {
   "cell_type": "code",
   "execution_count": 5,
   "id": "e696657e-9366-45ef-a610-8985d192c4b8",
   "metadata": {},
   "outputs": [],
   "source": [
    "TRAITS = DF[\"trait\"].unique()\n",
    "# TRAITS"
   ]
  },
  {
   "cell_type": "code",
   "execution_count": 6,
   "id": "7c02856f-0bc6-411e-b74e-1661c7a0b8eb",
   "metadata": {},
   "outputs": [],
   "source": [
    "def move_threshold(trait, checkpoint):\n",
    "    df = DF.loc[(DF[\"checkpoint\"] == checkpoint) & (DF[\"trait\"] == trait)]\n",
    "    if len(df) == 0:\n",
    "        return\n",
    "    precision, recall, thresholds = precision_recall_curve(df[\"y_true\"], df[\"y_pred\"])\n",
    "    f_scores = (2.0 * precision * recall) / (precision + recall)\n",
    "    idx = np.argmax(f_scores)\n",
    "    f_score = f_scores[idx]\n",
    "    threshold = thresholds[idx]\n",
    "    return f_score, threshold, checkpoint"
   ]
  },
  {
   "cell_type": "code",
   "execution_count": 7,
   "id": "94acc4bc-fd6e-467c-a1d9-4003261329c1",
   "metadata": {},
   "outputs": [],
   "source": [
    "bests = defaultdict(list)\n",
    "for trait in TRAITS:\n",
    "    for checkpoint in CHECKPOINTS:\n",
    "        best = move_threshold(trait, checkpoint)\n",
    "        if best is not None:\n",
    "            bests[trait].append(best)\n",
    "bests = {k: sorted(v, key=lambda t: t, reverse=True) for k, v in bests.items()}"
   ]
  },
  {
   "cell_type": "code",
   "execution_count": 11,
   "id": "23633dc3-593f-42c2-81a7-4a660c789277",
   "metadata": {},
   "outputs": [
    {
     "name": "stdout",
     "output_type": "stream",
     "text": [
      "flowers (0.7904967602591791, 0.525034368038178, 'data/tuned/effnet_528_flowers_prec_wt/checkpoint-20099')\n",
      "flowers (0.7887931034482758, 0.0252350941300392, 'data/tuned/effnet_528_flowers_prec_wt/checkpoint-19998')\n",
      "flowers (0.7844925883694414, 0.107626773416996, 'data/tuned/effnet_528_flowers_prec_wt/checkpoint-19897')\n",
      "\n",
      "fruits (0.7028688524590163, 3.3582030027901e-06, 'data/tuned/effnet_528_fruits_prec_wt/checkpoint-14880')\n",
      "fruits (0.7010752688172043, 0.00024449560442, 'data/tuned/effnet_528_fruits_prec_wt/checkpoint-18414')\n",
      "fruits (0.6998916576381365, 0.0007000703481025, 'data/tuned/effnet_528_fruits_prec_wt/checkpoint-18600')\n",
      "\n",
      "leaves (0.9880715705765407, 0.0002770601131487, 'data/tuned/effnet_528_leaves_prec_wt/checkpoint-23084')\n",
      "leaves (0.9880478087649401, 0.0023480465169996, 'data/tuned/effnet_528_leaves_prec_wt/checkpoint-22852')\n",
      "leaves (0.987389659520807, 0.923058807849884, 'data/tuned/vit_384_lg_all_prec_wt/checkpoint-36630')\n",
      "\n"
     ]
    }
   ],
   "source": [
    "for trait in TRAITS:\n",
    "    for i in range(3):\n",
    "        print(trait, bests[trait][i])\n",
    "    print()"
   ]
  },
  {
   "cell_type": "code",
   "execution_count": 9,
   "id": "8b1ac29d-ef68-49f6-9df9-c516733e5b2e",
   "metadata": {},
   "outputs": [],
   "source": [
    "# no_skill = len(df[\"y_true\"][df[\"y_true\"]==1]) / len(df[\"y_true\"])\n",
    "\n",
    "# plt.plot([0,1], [no_skill, no_skill], linestyle='--', label='No Skill')\n",
    "# plt.plot(recall, precision, marker='.', label='Logistic')\n",
    "# plt.scatter(recall[idx], precision[idx], marker='o', color='black', label='Best')\n",
    "# plt.xlabel('Recall')\n",
    "# plt.ylabel('Precision')\n",
    "# plt.legend()\n",
    "# plt.show()"
   ]
  }
 ],
 "metadata": {
  "kernelspec": {
   "display_name": "Python 3 (ipykernel)",
   "language": "python",
   "name": "python3"
  },
  "language_info": {
   "codemirror_mode": {
    "name": "ipython",
    "version": 3
   },
   "file_extension": ".py",
   "mimetype": "text/x-python",
   "name": "python",
   "nbconvert_exporter": "python",
   "pygments_lexer": "ipython3",
   "version": "3.11.10"
  }
 },
 "nbformat": 4,
 "nbformat_minor": 5
}
