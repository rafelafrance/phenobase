{
 "cells": [
  {
   "cell_type": "markdown",
   "id": "42a21405-fc6f-4cb7-ae45-a726ba454136",
   "metadata": {},
   "source": [
    "# Threshold moving\n",
    "- Maximize the positive predictive value (aka precision)\n",
    "- While also maximizing true positive rate (aka sensitivity or recall)\n",
    "- While minimizing the number of removed samples"
   ]
  },
  {
   "cell_type": "code",
   "execution_count": 1,
   "id": "fdff545d-7aad-4cc9-b93d-e7109bd26898",
   "metadata": {},
   "outputs": [],
   "source": [
    "import sys\n",
    "\n",
    "sys.path.append(\"..\")"
   ]
  },
  {
   "cell_type": "code",
   "execution_count": 2,
   "id": "c3d98624-c1b4-4822-ad59-fbb4be9404ec",
   "metadata": {},
   "outputs": [],
   "source": [
    "from collections import defaultdict\n",
    "from dataclasses import dataclass\n",
    "from pathlib import Path\n",
    "\n",
    "import matplotlib.pyplot as plt\n",
    "import numpy as np\n",
    "import pandas as pd\n",
    "from sklearn.metrics import PrecisionRecallDisplay, precision_recall_curve\n",
    "\n",
    "from phenobase.pylib.binary_metrics import Metrics\n",
    "from phenobase.pylib import util"
   ]
  },
  {
   "cell_type": "code",
   "execution_count": 3,
   "id": "2d961c3f-8786-4823-9bf6-38b72c438204",
   "metadata": {},
   "outputs": [],
   "source": [
    "CSV = Path(\"..\") / \"data\" / \"score.csv\"\n",
    "OUT = Path(\"..\") / \"data\" / \"thresholds.csv\"\n",
    "\n",
    "DF = pd.read_csv(CSV)\n",
    "# DF.head()"
   ]
  },
  {
   "cell_type": "code",
   "execution_count": 4,
   "id": "973495bb-7710-48a3-8553-414d00f9574f",
   "metadata": {
    "scrolled": true
   },
   "outputs": [],
   "source": [
    "CHECKPOINTS = DF[\"checkpoint\"].unique()\n",
    "# CHECKPOINTS"
   ]
  },
  {
   "cell_type": "code",
   "execution_count": 5,
   "id": "e696657e-9366-45ef-a610-8985d192c4b8",
   "metadata": {},
   "outputs": [],
   "source": [
    "TRAITS = DF[\"trait\"].unique()\n",
    "# TRAITS"
   ]
  },
  {
   "cell_type": "code",
   "execution_count": 6,
   "id": "5378b01d-aee0-42ca-af24-9b77efc455b6",
   "metadata": {},
   "outputs": [],
   "source": [
    "@dataclass\n",
    "class Score:\n",
    "    score: float\n",
    "    threshold: float\n",
    "    checkpoint: str\n",
    "    trait: str"
   ]
  },
  {
   "cell_type": "code",
   "execution_count": 7,
   "id": "7c02856f-0bc6-411e-b74e-1661c7a0b8eb",
   "metadata": {},
   "outputs": [],
   "source": [
    "def find_best_score(metrics, recall_limit=0.7):\n",
    "    best = (0.0, 0.0)\n",
    "    for threshold in np.arange(0.01, 1.0, 0.01):\n",
    "        metrics.filter_y(thresh_lo=threshold, thresh_hi=threshold)\n",
    "        if (\n",
    "            metrics.precision >= best[0] \n",
    "            and metrics.recall >= recall_limit\n",
    "            and metrics.total > 0\n",
    "        ):\n",
    "            best = metrics.precision, threshold\n",
    "    return best"
   ]
  },
  {
   "cell_type": "code",
   "execution_count": 8,
   "id": "94acc4bc-fd6e-467c-a1d9-4003261329c1",
   "metadata": {
    "scrolled": true
   },
   "outputs": [],
   "source": [
    "scores = defaultdict(list)\n",
    "for trait in TRAITS:\n",
    "    for checkpoint in CHECKPOINTS:\n",
    "        df = DF.loc[(DF[\"checkpoint\"] == checkpoint) & (DF[\"trait\"] == trait)]\n",
    "        if len(df) > 0:\n",
    "            best = Metrics(y_true=df[\"y_true\"], y_pred=df[\"y_pred\"])\n",
    "            score = find_best_score(best)\n",
    "            scores[trait].append(\n",
    "                Score(\n",
    "                    score=score[0],\n",
    "                    threshold=score[1],\n",
    "                    checkpoint=checkpoint,\n",
    "                    trait=trait,\n",
    "                )\n",
    "            )\n",
    "scores = {k: sorted(v, key=lambda b: b.score, reverse=True) for k, v in scores.items()}"
   ]
  },
  {
   "cell_type": "code",
   "execution_count": 10,
   "id": "23633dc3-593f-42c2-81a7-4a660c789277",
   "metadata": {},
   "outputs": [
    {
     "name": "stdout",
     "output_type": "stream",
     "text": [
      "flowers Score(score=0.8095238095238095, threshold=0.89, checkpoint='data/tuned/effnet_528_flowers_prec_wt/checkpoint-19897', trait='flowers')\n",
      "tp =  306    fn =  130\n",
      "fp =   72    tn =  404\n",
      "total =  912\n",
      "flowers Score(score=0.7994858611825193, threshold=0.98, checkpoint='data/tuned/effnet_528_flowers_prec_wt/checkpoint-20200', trait='flowers')\n",
      "tp =  311    fn =  125\n",
      "fp =   78    tn =  398\n",
      "total =  912\n",
      "flowers Score(score=0.7989690721649485, threshold=0.73, checkpoint='data/tuned/effnet_528_flowers_prec_nowt/checkpoint-19897', trait='flowers')\n",
      "tp =  310    fn =  126\n",
      "fp =   78    tn =  398\n",
      "total =  912\n",
      "flowers Score(score=0.7979274611398963, threshold=0.99, checkpoint='data/tuned/effnet_528_flowers_prec_nowt/checkpoint-19998', trait='flowers')\n",
      "tp =  308    fn =  128\n",
      "fp =   78    tn =  398\n",
      "total =  912\n",
      "flowers Score(score=0.7974025974025974, threshold=0.98, checkpoint='data/tuned/effnet_528_flowers_prec_wt/checkpoint-19998', trait='flowers')\n",
      "tp =  307    fn =  129\n",
      "fp =   78    tn =  398\n",
      "total =  912\n",
      "\n",
      "fruits Score(score=0.6708229426433915, threshold=0.8, checkpoint='data/tuned/effnet_528_fruits_prec_nowt/checkpoint-18414', trait='fruits')\n",
      "tp =  269    fn =  115\n",
      "fp =  132    tn =  326\n",
      "total =  842\n",
      "fruits Score(score=0.6691542288557214, threshold=0.23, checkpoint='data/tuned/effnet_528_fruits_prec_nowt/checkpoint-18507', trait='fruits')\n",
      "tp =  269    fn =  115\n",
      "fp =  133    tn =  325\n",
      "total =  842\n",
      "fruits Score(score=0.6617647058823529, threshold=0.81, checkpoint='data/tuned/effnet_528_fruits_prec_nowt/checkpoint-18321', trait='fruits')\n",
      "tp =  270    fn =  114\n",
      "fp =  138    tn =  320\n",
      "total =  842\n",
      "fruits Score(score=0.6517412935323383, threshold=0.38, checkpoint='data/tuned/vit_384_lg_all_prec_wt/checkpoint-1480', trait='fruits')\n",
      "tp =  262    fn =  109\n",
      "fp =  140    tn =  309\n",
      "total =  820\n",
      "fruits Score(score=0.6483790523690773, threshold=0.25, checkpoint='data/tuned/vit_384_lg_all_prec_wt/checkpoint-36445', trait='fruits')\n",
      "tp =  260    fn =  111\n",
      "fp =  141    tn =  308\n",
      "total =  820\n",
      "\n",
      "leaves Score(score=0.9957983193277311, threshold=0.56, checkpoint='data/tuned/effnet_528_leaves_prec_wt/checkpoint-232', trait='leaves')\n",
      "tp =  711    fn =  285\n",
      "fp =    3    tn =   31\n",
      "total = 1030\n",
      "leaves Score(score=0.9950980392156863, threshold=0.85, checkpoint='data/tuned/vit_384_lg_all_prec_wt/checkpoint-1480', trait='leaves')\n",
      "tp =  609    fn =  183\n",
      "fp =    3    tn =   25\n",
      "total =  820\n",
      "leaves Score(score=0.9943899018232819, threshold=0.43, checkpoint='data/tuned/vit_384_lg_leaves_prec_wt/checkpoint-740', trait='leaves')\n",
      "tp =  709    fn =  287\n",
      "fp =    4    tn =   30\n",
      "total = 1030\n",
      "leaves Score(score=0.9917184265010351, threshold=0.99, checkpoint='data/tuned/effnet_528_leaves_prec_wt/checkpoint-22968', trait='leaves')\n",
      "tp =  958    fn =   38\n",
      "fp =    8    tn =   26\n",
      "total = 1030\n",
      "leaves Score(score=0.9908443540183113, threshold=0.98, checkpoint='data/tuned/effnet_528_leaves_prec_wt/checkpoint-23200', trait='leaves')\n",
      "tp =  974    fn =   22\n",
      "fp =    9    tn =   25\n",
      "total = 1030\n",
      "\n"
     ]
    }
   ],
   "source": [
    "for trait in TRAITS:\n",
    "    for i in range(5):\n",
    "        score = scores[trait][i]\n",
    "        print(trait, score)\n",
    "        df = DF.loc[(DF[\"checkpoint\"] == score.checkpoint) & (DF[\"trait\"] == score.trait)]\n",
    "        metrics = Metrics(y_true=df[\"y_true\"], y_pred=df[\"y_pred\"])\n",
    "        metrics.filter_y(thresh_lo=score.threshold, thresh_hi=score.threshold)\n",
    "        metrics.display_matrix()\n",
    "    print()"
   ]
  },
  {
   "cell_type": "code",
   "execution_count": null,
   "id": "82a2c29f-cedb-4596-8dc7-7877041e88fa",
   "metadata": {},
   "outputs": [],
   "source": []
  }
 ],
 "metadata": {
  "kernelspec": {
   "display_name": "Python 3 (ipykernel)",
   "language": "python",
   "name": "python3"
  },
  "language_info": {
   "codemirror_mode": {
    "name": "ipython",
    "version": 3
   },
   "file_extension": ".py",
   "mimetype": "text/x-python",
   "name": "python",
   "nbconvert_exporter": "python",
   "pygments_lexer": "ipython3",
   "version": "3.11.10"
  }
 },
 "nbformat": 4,
 "nbformat_minor": 5
}
