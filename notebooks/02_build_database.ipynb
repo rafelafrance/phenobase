{
 "cells": [
  {
   "cell_type": "markdown",
   "id": "abdefb2f-10d9-483b-b43b-98f35bd03a87",
   "metadata": {},
   "source": [
    "# Build database"
   ]
  },
  {
   "cell_type": "code",
   "execution_count": 1,
   "id": "c772b794-b937-4746-82cd-cca8b51b07ce",
   "metadata": {
    "tags": []
   },
   "outputs": [],
   "source": [
    "import json\n",
    "import re\n",
    "import sqlite3\n",
    "from collections import defaultdict\n",
    "from pathlib import Path\n",
    "from types import SimpleNamespace\n",
    "\n",
    "import pandas as pd\n",
    "from tqdm.notebook import tqdm"
   ]
  },
  {
   "cell_type": "code",
   "execution_count": 2,
   "id": "bf753a1c-1f85-4796-9fb1-35ee23fafb1a",
   "metadata": {},
   "outputs": [],
   "source": [
    "INAT_DIR = Path(\"..\") / \"data\" / \"inat\""
   ]
  },
  {
   "cell_type": "code",
   "execution_count": 3,
   "id": "753aa408-ee34-4bce-91ba-5fd805811602",
   "metadata": {},
   "outputs": [],
   "source": [
    "args = SimpleNamespace(\n",
    "    obs_dir=INAT_DIR / \"obs\",\n",
    "    image_dir=INAT_DIR / \"images\",\n",
    "    db=INAT_DIR / \"inat.sqlite\",\n",
    "    taxa=INAT_DIR / \"taxa.csv.gz\",  # Loction of iNat taxon info\n",
    "    plantae=47126,  # The taxon ID for the plant kingdom\n",
    ")"
   ]
  },
  {
   "cell_type": "markdown",
   "id": "5177bcc3-9600-49a1-b356-d8648e4855a5",
   "metadata": {},
   "source": [
    "## Insert taxa data"
   ]
  },
  {
   "cell_type": "code",
   "execution_count": 4,
   "id": "1e59ed99-5163-498a-9ac2-21572d59ae79",
   "metadata": {
    "tags": []
   },
   "outputs": [
    {
     "data": {
      "text/plain": [
       "(1394173, 6)"
      ]
     },
     "execution_count": 4,
     "metadata": {},
     "output_type": "execute_result"
    }
   ],
   "source": [
    "taxa_df = pd.read_csv(\n",
    "    args.taxa,\n",
    "    sep=\"\\t\",\n",
    "    dtype={\n",
    "        \"taxon_id\": int,\n",
    "        \"ancestry\": str,\n",
    "        \"rank_level\": float,\n",
    "        \"rank\": str,\n",
    "        \"name\": str,\n",
    "        \"active\": bool,\n",
    "    },\n",
    ").fillna(\"\")\n",
    "taxa_df.shape"
   ]
  },
  {
   "cell_type": "code",
   "execution_count": 5,
   "id": "a2f085fb-3b2c-4816-9551-e382a89b8fc5",
   "metadata": {
    "tags": []
   },
   "outputs": [
    {
     "data": {
      "text/plain": [
       "(364137, 6)"
      ]
     },
     "execution_count": 5,
     "metadata": {},
     "output_type": "execute_result"
    }
   ],
   "source": [
    "taxa_df = taxa_df.loc[taxa_df[\"ancestry\"].str.contains(f\"/{args.plantae}/\")]\n",
    "taxa_df.shape"
   ]
  },
  {
   "cell_type": "code",
   "execution_count": 6,
   "id": "49f710a5-7bf6-433d-b8a7-14e4800f7846",
   "metadata": {},
   "outputs": [],
   "source": [
    "with sqlite3.connect(args.db) as cxn:\n",
    "    taxa_df.to_sql(\"taxa\", cxn, index=False, if_exists=\"replace\")"
   ]
  },
  {
   "cell_type": "markdown",
   "id": "116af19a-424c-4ff8-ac2a-de38c512b888",
   "metadata": {},
   "source": [
    "## Functions for parsing iNaturalist observation JSON records"
   ]
  },
  {
   "cell_type": "markdown",
   "id": "29f5ddbc-13bc-4642-9e90-3c329705362b",
   "metadata": {},
   "source": [
    "### Get record level data from the JSON record"
   ]
  },
  {
   "cell_type": "code",
   "execution_count": 7,
   "id": "7f074b66-3506-4938-b03e-ec7c84668b10",
   "metadata": {},
   "outputs": [],
   "source": [
    "def get_ids(rec, path):\n",
    "    order = path.stem.split(\"_\")[-1]\n",
    "    return {\n",
    "        \"obs_id\": rec[\"id\"],\n",
    "        \"split\": \"\",\n",
    "        \"order_\": order,\n",
    "    }"
   ]
  },
  {
   "cell_type": "markdown",
   "id": "25192b1b-39b6-4009-a39e-6f89e0cb8028",
   "metadata": {},
   "source": [
    "### Get phenology data from the JSON record"
   ]
  },
  {
   "cell_type": "code",
   "execution_count": 8,
   "id": "28f03f8f-ed77-4964-99f1-640609a6572d",
   "metadata": {},
   "outputs": [],
   "source": [
    "phenology = {\n",
    "    13: \"Flowering\",\n",
    "    14: \"Fruiting\",\n",
    "    # 15: \"Flower Budding\",\n",
    "    21: \"No Evidence of Flowering\",\n",
    "}\n",
    "\n",
    "\n",
    "def get_annotations(rec):\n",
    "    annos = [a[\"controlled_value_id\"] for a in rec[\"annotations\"]]\n",
    "    pheno = [phenology.get(a[\"controlled_value_id\"]) for a in rec[\"annotations\"]]\n",
    "    return {\n",
    "        \"annotations\": \",\".join([str(a) for a in annos]),\n",
    "        \"phenology\": \", \".join([p for p in pheno if p]),\n",
    "        \"flowering\": 1 if 13 in annos else 0,\n",
    "        \"fruiting\": 1 if 14 in annos else 0,\n",
    "        \"neither\": 1 if 21 in annos else 0,\n",
    "    }"
   ]
  },
  {
   "cell_type": "markdown",
   "id": "5414d820-4648-45e8-9a12-978034d5f5be",
   "metadata": {},
   "source": [
    "### Get taxon data from the JSON record"
   ]
  },
  {
   "cell_type": "code",
   "execution_count": 9,
   "id": "0c21d3e1-a7a0-4cf0-9894-31a0ac404e79",
   "metadata": {},
   "outputs": [],
   "source": [
    "def get_taxon(rec):\n",
    "    return {\n",
    "        \"taxon_id\": rec[\"taxon\"][\"id\"],\n",
    "        \"taxon\": rec[\"taxon\"][\"name\"],\n",
    "        \"ancestry\": rec[\"taxon\"][\"ancestry\"],\n",
    "    }"
   ]
  },
  {
   "cell_type": "markdown",
   "id": "ace85c94-21ed-4c87-9255-acf805630568",
   "metadata": {},
   "source": [
    "### Get image data from the JSON record"
   ]
  },
  {
   "cell_type": "code",
   "execution_count": 10,
   "id": "9ceb38ff-78e1-486b-8a5e-627b128d8cd8",
   "metadata": {},
   "outputs": [],
   "source": [
    "def get_images(rec, obs_id):\n",
    "    photos = []\n",
    "    for photo in rec[\"photos\"]:\n",
    "        url = photo[\"url\"].replace(\"square.\", size)\n",
    "        match = re.search(r\"/(\\d+)/[a-z]+\\.([a-z]+)$\", url, flags=re.I)\n",
    "\n",
    "        if not match:\n",
    "            continue\n",
    "\n",
    "        image_path = args.image_dir / f\"{match[1]}_{size}{match[2]}\"\n",
    "\n",
    "        if not image_path.exists():\n",
    "            continue\n",
    "\n",
    "        photos.append(\n",
    "            {\n",
    "                \"photo_id\": photo[\"id\"],\n",
    "                \"obs_id\": obs_id,\n",
    "                \"license\": photo[\"license_code\"],\n",
    "                \"path\": str(image_path),\n",
    "                \"url\": url,\n",
    "            }\n",
    "        )\n",
    "\n",
    "    return photos"
   ]
  },
  {
   "cell_type": "markdown",
   "id": "a5829522-b6cc-43cd-b2ea-813bf7e26867",
   "metadata": {},
   "source": [
    "### Build database records for the observations and images."
   ]
  },
  {
   "cell_type": "code",
   "execution_count": 11,
   "id": "a910a5f2-fc50-4a65-b7c4-0670aae602e9",
   "metadata": {},
   "outputs": [
    {
     "data": {
      "application/vnd.jupyter.widget-view+json": {
       "model_id": "58d05ad58a334fb1b6f23cb89720bc12",
       "version_major": 2,
       "version_minor": 0
      },
      "text/plain": [
       "  0%|          | 0/370 [00:00<?, ?it/s]"
      ]
     },
     "metadata": {},
     "output_type": "display_data"
    }
   ],
   "source": [
    "size = \"medium.\"  # medium large original\n",
    "\n",
    "json_paths = sorted(args.obs_dir.glob(\"*.json\"))\n",
    "\n",
    "annotations = defaultdict(int)\n",
    "\n",
    "observations = []\n",
    "images = []\n",
    "\n",
    "seen = set()  # Don't add the same observation record more than once\n",
    "\n",
    "\n",
    "for json_path in tqdm(json_paths):\n",
    "    with open(json_path) as in_file:\n",
    "        data = json.load(in_file)\n",
    "\n",
    "    for rec in data:\n",
    "        obs_rec = get_ids(rec, json_path)\n",
    "        obs_rec |= get_taxon(rec)\n",
    "        obs_rec |= get_annotations(rec)\n",
    "\n",
    "        if not obs_rec[\"phenology\"]:\n",
    "            continue\n",
    "\n",
    "        if obs_rec[\"obs_id\"] in seen:\n",
    "            continue\n",
    "\n",
    "        seen.add(obs_rec[\"obs_id\"])\n",
    "\n",
    "        imgs = get_images(rec, obs_rec[\"obs_id\"])\n",
    "        if not imgs:\n",
    "            continue\n",
    "\n",
    "        images += imgs\n",
    "        observations.append(obs_rec)"
   ]
  },
  {
   "cell_type": "markdown",
   "id": "532a4a9c-de21-488f-a5e5-7a29a25578f4",
   "metadata": {},
   "source": [
    "### Build the data frames and write them to the database."
   ]
  },
  {
   "cell_type": "code",
   "execution_count": 12,
   "id": "eb38d979-3527-4afd-bba1-21fc80971fe5",
   "metadata": {},
   "outputs": [],
   "source": [
    "obs_df = pd.DataFrame(observations)\n",
    "img_df = pd.DataFrame(images)"
   ]
  },
  {
   "cell_type": "code",
   "execution_count": 13,
   "id": "126a6383-96c4-4c43-9df8-8927da0846fe",
   "metadata": {},
   "outputs": [],
   "source": [
    "with sqlite3.connect(args.db) as cxn:\n",
    "    obs_df.to_sql(\"obs\", cxn, index=False, if_exists=\"replace\")\n",
    "    img_df.to_sql(\"images\", cxn, index=False, if_exists=\"replace\")"
   ]
  },
  {
   "cell_type": "markdown",
   "id": "23b0b64a-a326-4b5c-842a-313b6cd4628c",
   "metadata": {},
   "source": [
    "## Count records for each order and each phenology category"
   ]
  },
  {
   "cell_type": "code",
   "execution_count": 14,
   "id": "764050a3-86d1-4012-801f-c8f9fbf5afa4",
   "metadata": {},
   "outputs": [],
   "source": [
    "counts = defaultdict(\n",
    "    lambda: {\n",
    "        \"both\": 0,\n",
    "        \"flowering\": 0,\n",
    "        \"fruiting\": 0,\n",
    "        \"neither\": 0,\n",
    "        \"total\": 0,\n",
    "    }\n",
    ")\n",
    "grand = 0"
   ]
  },
  {
   "cell_type": "code",
   "execution_count": 15,
   "id": "35ac37e1-43c5-4820-8ffd-740650d09224",
   "metadata": {},
   "outputs": [],
   "source": [
    "for obs in observations:\n",
    "    count = counts[obs[\"order_\"]]\n",
    "    count[\"total\"] += 1\n",
    "    grand += 1\n",
    "\n",
    "    if obs[\"flowering\"] and obs[\"fruiting\"]:\n",
    "        count[\"both\"] += 1\n",
    "    else:\n",
    "        for key in [\"flowering\", \"fruiting\", \"neither\"]:\n",
    "            if obs[key]:\n",
    "                count[key] += 1"
   ]
  },
  {
   "cell_type": "code",
   "execution_count": 16,
   "id": "2cb1b7c0-1b88-4f87-a6be-bb1304655cea",
   "metadata": {},
   "outputs": [
    {
     "name": "stdout",
     "output_type": "stream",
     "text": [
      "Acorales             flowering =   27, fruiting =   28, neither =    9, both =     1, total =    65\n",
      "Alismatales          flowering =  500, fruiting =  500, neither =  562, both =    67, total =  1629\n",
      "Amborellales         flowering =    0, fruiting =    6, neither =    0, both =     0, total =     6\n",
      "Apiales              flowering =  921, fruiting =  500, neither =  500, both =   208, total =  2129\n",
      "Aquifoliales         flowering =  500, fruiting =  919, neither =  500, both =    29, total =  1948\n",
      "Arecales             flowering =  400, fruiting =  519, neither =  708, both =    86, total =  1713\n",
      "Asparagales          flowering =  851, fruiting =  500, neither =  502, both =    93, total =  1946\n",
      "Asterales            flowering = 1294, fruiting =  500, neither =  510, both =   225, total =  2529\n",
      "Austrobaileyales     flowering =   92, fruiting =   35, neither =    7, both =     4, total =   138\n",
      "Berberidopsidales    flowering =    9, fruiting =    0, neither =    6, both =     0, total =    15\n",
      "Boraginales          flowering = 1128, fruiting =  273, neither =  500, both =   227, total =  2128\n",
      "Brassicales          flowering =  771, fruiting =  500, neither =  509, both =   314, total =  2094\n",
      "Bruniales            flowering =  176, fruiting =    4, neither =    1, both =     4, total =   185\n",
      "Buxales              flowering =  194, fruiting =   20, neither =   67, both =     1, total =   282\n",
      "Canellales           flowering =  145, fruiting =   98, neither =   39, both =     8, total =   290\n",
      "Caryophyllales       flowering =  764, fruiting =  500, neither =  529, both =   118, total =  1911\n",
      "Celastrales          flowering =  500, fruiting = 1227, neither =  500, both =    31, total =  2258\n",
      "Ceratophyllales      flowering =    6, fruiting =    1, neither =   46, both =     0, total =    53\n",
      "Chloranthales        flowering =   51, fruiting =  117, neither =    3, both =     3, total =   174\n",
      "Commelinales         flowering = 1314, fruiting =  238, neither =  536, both =   277, total =  2365\n",
      "Cornales             flowering =  595, fruiting =  702, neither =  505, both =    62, total =  1864\n",
      "Crossosomatales      flowering =  427, fruiting =  491, neither =   65, both =     8, total =   991\n",
      "Cucurbitales         flowering =  500, fruiting =  865, neither =  504, both =   160, total =  2029\n",
      "Dilleniales          flowering = 1369, fruiting =   87, neither =   90, both =    18, total =  1564\n",
      "Dioscoreales         flowering =  648, fruiting =  495, neither =  249, both =    53, total =  1445\n",
      "Dipsacales           flowering =  500, fruiting =  797, neither =  500, both =    28, total =  1825\n",
      "Ericales             flowering =  806, fruiting =  500, neither =  501, both =    51, total =  1858\n",
      "Escalloniales        flowering =  180, fruiting =   20, neither =   18, both =    13, total =   231\n",
      "Fabales              flowering = 1048, fruiting =  500, neither =  500, both =   167, total =  2215\n",
      "Fagales              flowering =  500, fruiting =  647, neither =  726, both =    34, total =  1907\n",
      "Garryales            flowering =  142, fruiting =  194, neither =   69, both =     7, total =   412\n",
      "Gentianales          flowering =  875, fruiting =  500, neither =  500, both =    70, total =  1945\n",
      "Geraniales           flowering =  937, fruiting =  500, neither =  503, both =   429, total =  2369\n",
      "Gunnerales           flowering =   58, fruiting =  107, neither =   35, both =     2, total =   202\n",
      "Huerteales           flowering =    9, fruiting =    4, neither =    1, both =     0, total =    14\n",
      "Icacinales           flowering =    9, fruiting =   11, neither =    1, both =     0, total =    21\n",
      "Lamiales             flowering = 1221, fruiting =  500, neither =  505, both =   129, total =  2355\n",
      "Laurales             flowering =  580, fruiting =  500, neither =  500, both =    40, total =  1620\n",
      "Liliales             flowering = 1156, fruiting =  500, neither =  500, both =    36, total =  2192\n",
      "Magnoliales          flowering =  500, fruiting =  500, neither = 1017, both =    18, total =  2035\n",
      "Malpighiales         flowering =  824, fruiting =  500, neither =  509, both =   178, total =  2011\n",
      "Malvales             flowering = 1011, fruiting =  500, neither =  507, both =   186, total =  2204\n",
      "Metteniusales        flowering =   21, fruiting =   42, neither =    2, both =     1, total =    66\n",
      "Myrtales             flowering = 1088, fruiting =  500, neither =  500, both =   160, total =  2248\n",
      "Nymphaeales          flowering = 1232, fruiting =   69, neither =  283, both =    37, total =  1621\n",
      "Oxalidales           flowering = 1207, fruiting =  500, neither =  500, both =   165, total =  2372\n",
      "Pandanales           flowering =  269, fruiting =  265, neither =   70, both =    15, total =   619\n",
      "Paracryphiales       flowering =   39, fruiting =   11, neither =    6, both =     0, total =    56\n",
      "Petrosaviales        flowering =    2, fruiting =    0, neither =    0, both =     0, total =     2\n",
      "Picramniales         flowering =    7, fruiting =   10, neither =    0, both =     1, total =    18\n",
      "Piperales            flowering =  935, fruiting =  501, neither =  500, both =   116, total =  2052\n",
      "Poales               flowering =  603, fruiting =  728, neither =  501, both =    31, total =  1863\n",
      "Proteales            flowering = 1025, fruiting =  500, neither =  500, both =    93, total =  2118\n",
      "Ranunculales         flowering =  916, fruiting =  500, neither =  500, both =    68, total =  1984\n",
      "Rosales              flowering =  500, fruiting =  613, neither =  500, both =    40, total =  1653\n",
      "Santalales           flowering =  622, fruiting =  549, neither =  501, both =    87, total =  1758\n",
      "Sapindales           flowering =  500, fruiting =  615, neither =  536, both =    45, total =  1696\n",
      "Saxifragales         flowering =  797, fruiting =  500, neither =  501, both =    89, total =  1887\n",
      "Solanales            flowering =  876, fruiting =  500, neither =  500, both =   177, total =  2053\n",
      "Trochodendrales      flowering =   21, fruiting =   13, neither =    4, both =     2, total =    40\n",
      "Vahliales            flowering =    5, fruiting =    0, neither =    0, both =     0, total =     5\n",
      "Vitales              flowering =  500, fruiting =  618, neither =  638, both =   114, total =  1870\n",
      "Zingiberales         flowering =  935, fruiting =  500, neither =  281, both =   212, total =  1928\n",
      "Zygophyllales        flowering =  697, fruiting =  500, neither =  501, both =   177, total =  1875\n"
     ]
    },
    {
     "data": {
      "text/plain": [
       "86951"
      ]
     },
     "execution_count": 16,
     "metadata": {},
     "output_type": "execute_result"
    }
   ],
   "source": [
    "keys = sorted(counts.keys())\n",
    "for taxon in keys:\n",
    "    count = counts[taxon]\n",
    "    print(\n",
    "        f\"{taxon:20} flowering ={count['flowering']: 5}, \"\n",
    "        f\"fruiting ={count['fruiting']: 5}, neither ={count['neither']: 5}, \"\n",
    "        f\"both = {count['both']: 5}, total = {count['total']: 5}\"\n",
    "    )\n",
    "grand"
   ]
  },
  {
   "cell_type": "code",
   "execution_count": null,
   "id": "5c62ee6e-67bb-4635-9c2c-3db1336872bb",
   "metadata": {},
   "outputs": [],
   "source": []
  }
 ],
 "metadata": {
  "kernelspec": {
   "display_name": "Python 3 (ipykernel)",
   "language": "python",
   "name": "python3"
  },
  "language_info": {
   "codemirror_mode": {
    "name": "ipython",
    "version": 3
   },
   "file_extension": ".py",
   "mimetype": "text/x-python",
   "name": "python",
   "nbconvert_exporter": "python",
   "pygments_lexer": "ipython3",
   "version": "3.10.6"
  }
 },
 "nbformat": 4,
 "nbformat_minor": 5
}
