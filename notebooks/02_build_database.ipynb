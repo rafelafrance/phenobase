{
 "cells": [
  {
   "cell_type": "markdown",
   "id": "abdefb2f-10d9-483b-b43b-98f35bd03a87",
   "metadata": {},
   "source": [
    "# Build database"
   ]
  },
  {
   "cell_type": "code",
   "execution_count": 1,
   "id": "c772b794-b937-4746-82cd-cca8b51b07ce",
   "metadata": {
    "tags": []
   },
   "outputs": [],
   "source": [
    "import json\n",
    "import re\n",
    "import sqlite3\n",
    "from collections import defaultdict\n",
    "from pathlib import Path\n",
    "from types import SimpleNamespace\n",
    "\n",
    "import pandas as pd\n",
    "from tqdm.notebook import tqdm"
   ]
  },
  {
   "cell_type": "code",
   "execution_count": 2,
   "id": "bf753a1c-1f85-4796-9fb1-35ee23fafb1a",
   "metadata": {},
   "outputs": [],
   "source": [
    "DATA_DIR = Path(\"..\") / \"data\""
   ]
  },
  {
   "cell_type": "code",
   "execution_count": 3,
   "id": "753aa408-ee34-4bce-91ba-5fd805811602",
   "metadata": {},
   "outputs": [],
   "source": [
    "args = SimpleNamespace(\n",
    "    obs_dir=DATA_DIR / \"inat\" / \"obs\",\n",
    "    image_dir=DATA_DIR / \"inat\" / \"images\",\n",
    "    db=DATA_DIR / \"inat\" / \"inat.sqlite\",\n",
    ")"
   ]
  },
  {
   "cell_type": "markdown",
   "id": "116af19a-424c-4ff8-ac2a-de38c512b888",
   "metadata": {},
   "source": [
    "## Functions for parsing iNaturalist observation JSON records"
   ]
  },
  {
   "cell_type": "markdown",
   "id": "29f5ddbc-13bc-4642-9e90-3c329705362b",
   "metadata": {},
   "source": [
    "#### Get the record ID from the JSON record"
   ]
  },
  {
   "cell_type": "code",
   "execution_count": 4,
   "id": "7f074b66-3506-4938-b03e-ec7c84668b10",
   "metadata": {},
   "outputs": [],
   "source": [
    "def get_ids(rec):\n",
    "    return {\n",
    "        \"obs_id\": rec[\"id\"],\n",
    "    }"
   ]
  },
  {
   "cell_type": "markdown",
   "id": "25192b1b-39b6-4009-a39e-6f89e0cb8028",
   "metadata": {},
   "source": [
    "#### Get phenology data from the JSON record"
   ]
  },
  {
   "cell_type": "code",
   "execution_count": 5,
   "id": "28f03f8f-ed77-4964-99f1-640609a6572d",
   "metadata": {},
   "outputs": [],
   "source": [
    "phenology = {\n",
    "    13: \"Flowering\",\n",
    "    14: \"Fruiting\",\n",
    "    15: \"Flower Budding\",\n",
    "    21: \"No Evidence of Flowering\",\n",
    "}\n",
    "\n",
    "\n",
    "def get_annotations(rec):\n",
    "    annos = [a[\"controlled_value_id\"] for a in rec[\"annotations\"]]\n",
    "    pheno = [phenology.get(a[\"controlled_value_id\"]) for a in rec[\"annotations\"]]\n",
    "    annos = \",\".join([str(a) for a in annos])\n",
    "    pheno = \", \".join([a for a in pheno if a])\n",
    "    return {\"annotations\": annos, \"phenology\": pheno}"
   ]
  },
  {
   "cell_type": "markdown",
   "id": "5414d820-4648-45e8-9a12-978034d5f5be",
   "metadata": {},
   "source": [
    "#### Get taxon data from the JSON record"
   ]
  },
  {
   "cell_type": "code",
   "execution_count": 6,
   "id": "0c21d3e1-a7a0-4cf0-9894-31a0ac404e79",
   "metadata": {},
   "outputs": [],
   "source": [
    "def get_taxon(rec):\n",
    "    return {\n",
    "        \"taxon_id\": rec[\"taxon\"][\"id\"],\n",
    "        \"taxon\": rec[\"taxon\"][\"name\"],\n",
    "        \"ancestry\": rec[\"taxon\"][\"ancestry\"],\n",
    "    }"
   ]
  },
  {
   "cell_type": "markdown",
   "id": "ace85c94-21ed-4c87-9255-acf805630568",
   "metadata": {},
   "source": [
    "#### Get image data from the JSON record"
   ]
  },
  {
   "cell_type": "code",
   "execution_count": 7,
   "id": "9ceb38ff-78e1-486b-8a5e-627b128d8cd8",
   "metadata": {},
   "outputs": [],
   "source": [
    "def get_images(rec, obs_id):\n",
    "    photos = []\n",
    "    for photo in rec[\"photos\"]:\n",
    "        url = photo[\"url\"].replace(\"square.\", size)\n",
    "        match = re.search(r\"/(\\d+)/[a-z]+\\.([a-z]+)$\", url, flags=re.I)\n",
    "\n",
    "        if not match:\n",
    "            continue\n",
    "\n",
    "        image_path = args.image_dir / f\"{match[1]}_{size}{match[2]}\"\n",
    "\n",
    "        if not image_path.exists():\n",
    "            continue\n",
    "\n",
    "        photos.append(\n",
    "            {\n",
    "                \"photo_id\": photo[\"id\"],\n",
    "                \"obs_id\": obs_id,\n",
    "                \"license\": photo[\"license_code\"],\n",
    "                \"path\": str(image_path),\n",
    "                \"url\": url,\n",
    "            }\n",
    "        )\n",
    "\n",
    "    return photos"
   ]
  },
  {
   "cell_type": "markdown",
   "id": "a5829522-b6cc-43cd-b2ea-813bf7e26867",
   "metadata": {},
   "source": [
    "#### Build database records for the observations and images."
   ]
  },
  {
   "cell_type": "code",
   "execution_count": 8,
   "id": "a910a5f2-fc50-4a65-b7c4-0670aae602e9",
   "metadata": {},
   "outputs": [
    {
     "data": {
      "application/vnd.jupyter.widget-view+json": {
       "model_id": "c062b52356f7409b9600cba8036ee4bb",
       "version_major": 2,
       "version_minor": 0
      },
      "text/plain": [
       "  0%|          | 0/64 [00:00<?, ?it/s]"
      ]
     },
     "metadata": {},
     "output_type": "display_data"
    }
   ],
   "source": [
    "size = \"medium.\"  # medium large original\n",
    "\n",
    "json_paths = sorted(args.obs_dir.glob(\"*.json\"))\n",
    "\n",
    "annotations = defaultdict(int)\n",
    "\n",
    "observations = []\n",
    "images = []\n",
    "\n",
    "for json_path in tqdm(json_paths):\n",
    "    with open(json_path) as in_file:\n",
    "        data = json.load(in_file)\n",
    "\n",
    "    for rec in data:\n",
    "        obs_rec = get_ids(rec)\n",
    "        obs_rec |= get_taxon(rec)\n",
    "        obs_rec |= get_annotations(rec)\n",
    "        if not obs_rec[\"phenology\"]:\n",
    "            continue\n",
    "\n",
    "        imgs = get_images(rec, obs_rec[\"obs_id\"])\n",
    "        if not imgs:\n",
    "            continue\n",
    "\n",
    "        images += imgs\n",
    "        observations.append(obs_rec)"
   ]
  },
  {
   "cell_type": "markdown",
   "id": "532a4a9c-de21-488f-a5e5-7a29a25578f4",
   "metadata": {},
   "source": [
    "#### Build the data frames and write them to the database."
   ]
  },
  {
   "cell_type": "code",
   "execution_count": 10,
   "id": "eb38d979-3527-4afd-bba1-21fc80971fe5",
   "metadata": {},
   "outputs": [],
   "source": [
    "obs_df = pd.DataFrame(observations)\n",
    "img_df = pd.DataFrame(images)"
   ]
  },
  {
   "cell_type": "code",
   "execution_count": 11,
   "id": "126a6383-96c4-4c43-9df8-8927da0846fe",
   "metadata": {},
   "outputs": [],
   "source": [
    "with sqlite3.connect(args.db) as cxn:\n",
    "    obs_df.to_sql(\"obs\", cxn, index=False)\n",
    "    img_df.to_sql(\"images\", cxn, index=False)"
   ]
  },
  {
   "cell_type": "code",
   "execution_count": null,
   "id": "5c36b2a5-7e63-4e8f-8d2c-b122064461f3",
   "metadata": {},
   "outputs": [],
   "source": []
  }
 ],
 "metadata": {
  "kernelspec": {
   "display_name": "Python 3 (ipykernel)",
   "language": "python",
   "name": "python3"
  },
  "language_info": {
   "codemirror_mode": {
    "name": "ipython",
    "version": 3
   },
   "file_extension": ".py",
   "mimetype": "text/x-python",
   "name": "python",
   "nbconvert_exporter": "python",
   "pygments_lexer": "ipython3",
   "version": "3.10.6"
  }
 },
 "nbformat": 4,
 "nbformat_minor": 5
}
