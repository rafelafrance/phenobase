{
 "cells": [
  {
   "cell_type": "markdown",
   "id": "abdefb2f-10d9-483b-b43b-98f35bd03a87",
   "metadata": {},
   "source": [
    "# Build database"
   ]
  },
  {
   "cell_type": "code",
   "execution_count": 1,
   "id": "c772b794-b937-4746-82cd-cca8b51b07ce",
   "metadata": {
    "tags": []
   },
   "outputs": [],
   "source": [
    "import json\n",
    "import re\n",
    "import sqlite3\n",
    "from collections import defaultdict\n",
    "from pathlib import Path\n",
    "from types import SimpleNamespace\n",
    "\n",
    "import pandas as pd\n",
    "from tqdm.notebook import tqdm"
   ]
  },
  {
   "cell_type": "code",
   "execution_count": 2,
   "id": "bf753a1c-1f85-4796-9fb1-35ee23fafb1a",
   "metadata": {},
   "outputs": [],
   "source": [
    "DATA_DIR = Path(\"..\") / \"data\""
   ]
  },
  {
   "cell_type": "code",
   "execution_count": 3,
   "id": "753aa408-ee34-4bce-91ba-5fd805811602",
   "metadata": {},
   "outputs": [],
   "source": [
    "args = SimpleNamespace(\n",
    "    obs_dir=DATA_DIR / \"inat\" / \"obs\",\n",
    "    image_dir=DATA_DIR / \"inat\" / \"images\",\n",
    "    db=DATA_DIR / \"inat\" / \"inat.sqlite\",\n",
    ")"
   ]
  },
  {
   "cell_type": "markdown",
   "id": "116af19a-424c-4ff8-ac2a-de38c512b888",
   "metadata": {},
   "source": [
    "## Functions for parsing iNaturalist observation JSON records"
   ]
  },
  {
   "cell_type": "markdown",
   "id": "29f5ddbc-13bc-4642-9e90-3c329705362b",
   "metadata": {},
   "source": [
    "#### Get record level data from the JSON record"
   ]
  },
  {
   "cell_type": "code",
   "execution_count": 4,
   "id": "7f074b66-3506-4938-b03e-ec7c84668b10",
   "metadata": {},
   "outputs": [],
   "source": [
    "def get_ids(rec, path):\n",
    "    order = path.stem.replace(\"order_\", \"\")\n",
    "    return {\n",
    "        \"obs_id\": rec[\"id\"],\n",
    "        \"split\": \"\",\n",
    "        \"order\": order,\n",
    "    }"
   ]
  },
  {
   "cell_type": "markdown",
   "id": "25192b1b-39b6-4009-a39e-6f89e0cb8028",
   "metadata": {},
   "source": [
    "#### Get phenology data from the JSON record"
   ]
  },
  {
   "cell_type": "code",
   "execution_count": 5,
   "id": "28f03f8f-ed77-4964-99f1-640609a6572d",
   "metadata": {},
   "outputs": [],
   "source": [
    "phenology = {\n",
    "    13: \"Flowering\",\n",
    "    14: \"Fruiting\",\n",
    "    # 15: \"Flower Budding\",\n",
    "    21: \"No Evidence of Flowering\",\n",
    "}\n",
    "\n",
    "\n",
    "def get_annotations(rec):\n",
    "    annos = [a[\"controlled_value_id\"] for a in rec[\"annotations\"]]\n",
    "    pheno = [phenology.get(a[\"controlled_value_id\"]) for a in rec[\"annotations\"]]\n",
    "    annos = \",\".join([str(a) for a in annos])\n",
    "    pheno = \", \".join([a for a in pheno if a])\n",
    "    return {\"annotations\": annos, \"phenology\": pheno}"
   ]
  },
  {
   "cell_type": "markdown",
   "id": "5414d820-4648-45e8-9a12-978034d5f5be",
   "metadata": {},
   "source": [
    "#### Get taxon data from the JSON record"
   ]
  },
  {
   "cell_type": "code",
   "execution_count": 6,
   "id": "0c21d3e1-a7a0-4cf0-9894-31a0ac404e79",
   "metadata": {},
   "outputs": [],
   "source": [
    "def get_taxon(rec):\n",
    "    return {\n",
    "        \"taxon_id\": rec[\"taxon\"][\"id\"],\n",
    "        \"taxon\": rec[\"taxon\"][\"name\"],\n",
    "        \"ancestry\": rec[\"taxon\"][\"ancestry\"],\n",
    "    }"
   ]
  },
  {
   "cell_type": "markdown",
   "id": "ace85c94-21ed-4c87-9255-acf805630568",
   "metadata": {},
   "source": [
    "#### Get image data from the JSON record"
   ]
  },
  {
   "cell_type": "code",
   "execution_count": 7,
   "id": "9ceb38ff-78e1-486b-8a5e-627b128d8cd8",
   "metadata": {},
   "outputs": [],
   "source": [
    "def get_images(rec, obs_id):\n",
    "    photos = []\n",
    "    for photo in rec[\"photos\"]:\n",
    "        url = photo[\"url\"].replace(\"square.\", size)\n",
    "        match = re.search(r\"/(\\d+)/[a-z]+\\.([a-z]+)$\", url, flags=re.I)\n",
    "\n",
    "        if not match:\n",
    "            continue\n",
    "\n",
    "        image_path = args.image_dir / f\"{match[1]}_{size}{match[2]}\"\n",
    "\n",
    "        if not image_path.exists():\n",
    "            continue\n",
    "\n",
    "        photos.append(\n",
    "            {\n",
    "                \"photo_id\": photo[\"id\"],\n",
    "                \"obs_id\": obs_id,\n",
    "                \"license\": photo[\"license_code\"],\n",
    "                \"path\": str(image_path),\n",
    "                \"url\": url,\n",
    "            }\n",
    "        )\n",
    "\n",
    "    return photos"
   ]
  },
  {
   "cell_type": "markdown",
   "id": "a5829522-b6cc-43cd-b2ea-813bf7e26867",
   "metadata": {},
   "source": [
    "#### Build database records for the observations and images."
   ]
  },
  {
   "cell_type": "code",
   "execution_count": 8,
   "id": "a910a5f2-fc50-4a65-b7c4-0670aae602e9",
   "metadata": {},
   "outputs": [
    {
     "data": {
      "application/vnd.jupyter.widget-view+json": {
       "model_id": "a8fbac9378dc4669a822959ae61cad06",
       "version_major": 2,
       "version_minor": 0
      },
      "text/plain": [
       "  0%|          | 0/64 [00:00<?, ?it/s]"
      ]
     },
     "metadata": {},
     "output_type": "display_data"
    }
   ],
   "source": [
    "size = \"medium.\"  # medium large original\n",
    "\n",
    "json_paths = sorted(args.obs_dir.glob(\"*.json\"))\n",
    "\n",
    "annotations = defaultdict(int)\n",
    "\n",
    "observations = []\n",
    "images = []\n",
    "\n",
    "for json_path in tqdm(json_paths):\n",
    "    with open(json_path) as in_file:\n",
    "        data = json.load(in_file)\n",
    "\n",
    "    for rec in data:\n",
    "        obs_rec = get_ids(rec, json_path)\n",
    "        obs_rec |= get_taxon(rec)\n",
    "        obs_rec |= get_annotations(rec)\n",
    "        if not obs_rec[\"phenology\"]:\n",
    "            continue\n",
    "\n",
    "        imgs = get_images(rec, obs_rec[\"obs_id\"])\n",
    "        if not imgs:\n",
    "            continue\n",
    "\n",
    "        images += imgs\n",
    "        observations.append(obs_rec)"
   ]
  },
  {
   "cell_type": "markdown",
   "id": "532a4a9c-de21-488f-a5e5-7a29a25578f4",
   "metadata": {},
   "source": [
    "#### Build the data frames and write them to the database."
   ]
  },
  {
   "cell_type": "code",
   "execution_count": 9,
   "id": "eb38d979-3527-4afd-bba1-21fc80971fe5",
   "metadata": {},
   "outputs": [],
   "source": [
    "obs_df = pd.DataFrame(observations)\n",
    "\n",
    "img_df = pd.DataFrame(images)"
   ]
  },
  {
   "cell_type": "code",
   "execution_count": 10,
   "id": "126a6383-96c4-4c43-9df8-8927da0846fe",
   "metadata": {},
   "outputs": [],
   "source": [
    "with sqlite3.connect(args.db) as cxn:\n",
    "    obs_df.to_sql(\"obs\", cxn, index=False, if_exists=\"replace\")\n",
    "    img_df.to_sql(\"images\", cxn, index=False, if_exists=\"replace\")"
   ]
  },
  {
   "cell_type": "markdown",
   "id": "23b0b64a-a326-4b5c-842a-313b6cd4628c",
   "metadata": {},
   "source": [
    "## Count records for each order and each phenology category"
   ]
  },
  {
   "cell_type": "code",
   "execution_count": 20,
   "id": "764050a3-86d1-4012-801f-c8f9fbf5afa4",
   "metadata": {},
   "outputs": [],
   "source": [
    "counts = defaultdict(lambda: {\n",
    "    \"both\": 0,\n",
    "    \"flowering\": 0, \n",
    "    \"fruiting\": 0, \n",
    "    \"neither\": 0, \n",
    "    \"total\": 0,\n",
    "})\n",
    "grand = 0"
   ]
  },
  {
   "cell_type": "code",
   "execution_count": 21,
   "id": "35ac37e1-43c5-4820-8ffd-740650d09224",
   "metadata": {},
   "outputs": [],
   "source": [
    "for obs in observations:\n",
    "    count = counts[obs[\"order\"]]\n",
    "    count[\"total\"] += 1\n",
    "    grand += 1\n",
    "\n",
    "    if \"13\" in obs[\"annotations\"] and \"14\" in obs[\"annotations\"]:\n",
    "        count[\"both\"] += 1\n",
    "\n",
    "    if \"13\" in obs[\"annotations\"]:\n",
    "        count[\"flowering\"] += 1\n",
    "\n",
    "    if \"14\" in obs[\"annotations\"]:\n",
    "        count[\"fruiting\"] += 1\n",
    "\n",
    "    if \"21\" in obs[\"annotations\"]:\n",
    "        count[\"neither\"] += 1"
   ]
  },
  {
   "cell_type": "code",
   "execution_count": 22,
   "id": "2cb1b7c0-1b88-4f87-a6be-bb1304655cea",
   "metadata": {},
   "outputs": [
    {
     "name": "stdout",
     "output_type": "stream",
     "text": [
      "Acorales             flowering =  28, fruiting =  29, neither =   9, both =    1, total =   65\n",
      "Alismatales          flowering = 340, fruiting = 269, neither = 397, both =   38, total =  968\n",
      "Amborellales         flowering =   0, fruiting =   6, neither =   0, both =    0, total =    6\n",
      "Apiales              flowering = 675, fruiting = 225, neither = 142, both =   88, total =  954\n",
      "Aquifoliales         flowering = 117, fruiting = 719, neither = 143, both =    2, total =  977\n",
      "Arecales             flowering = 126, fruiting = 375, neither = 500, both =   27, total =  974\n",
      "Asparagales          flowering = 476, fruiting =  88, neither = 427, both =   17, total =  974\n",
      "Asterales            flowering = 786, fruiting = 128, neither = 102, both =   46, total =  970\n",
      "Austrobaileyales     flowering =  96, fruiting =  39, neither =   7, both =    4, total =  138\n",
      "Berberidopsidales    flowering =   9, fruiting =   0, neither =   6, both =    0, total =   15\n",
      "Boraginales          flowering = 825, fruiting = 107, neither = 105, both =   55, total =  982\n",
      "Brassicales          flowering = 685, fruiting = 321, neither = 163, both =  193, total =  976\n",
      "Bruniales            flowering = 172, fruiting =   7, neither =   1, both =    3, total =  177\n",
      "Buxales              flowering = 195, fruiting =  21, neither =  67, both =    1, total =  282\n",
      "Canellales           flowering = 153, fruiting = 106, neither =  39, both =    8, total =  290\n",
      "Caryophyllales       flowering = 534, fruiting = 179, neither = 301, both =   51, total =  963\n",
      "Celastrales          flowering = 151, fruiting = 808, neither =  53, both =   18, total =  994\n",
      "Ceratophyllales      flowering =   6, fruiting =   1, neither =  46, both =    0, total =   53\n",
      "Chloranthales        flowering =  54, fruiting = 120, neither =   3, both =    3, total =  174\n",
      "Commelinales         flowering = 878, fruiting =  53, neither =  77, both =   23, total =  985\n",
      "Cornales             flowering = 366, fruiting = 539, neither = 104, both =   42, total =  967\n",
      "Crossosomatales      flowering = 414, fruiting = 476, neither =  64, both =    7, total =  947\n",
      "Cucurbitales         flowering = 311, fruiting = 718, neither =  34, both =   73, total =  990\n",
      "Dilleniales          flowering = 928, fruiting =  38, neither =  34, both =   10, total =  990\n",
      "Dioscoreales         flowering = 454, fruiting = 316, neither = 207, both =   35, total =  942\n",
      "Dipsacales           flowering = 377, fruiting = 507, neither =  95, both =   19, total =  960\n",
      "Ericales             flowering = 526, fruiting = 251, neither = 179, both =   25, total =  931\n",
      "Escalloniales        flowering = 193, fruiting =  33, neither =  18, both =   13, total =  231\n",
      "Fabales              flowering = 748, fruiting = 194, neither =  97, both =   68, total =  971\n",
      "Fagales              flowering =  84, fruiting = 386, neither = 513, both =   11, total =  972\n",
      "Garryales            flowering = 146, fruiting = 201, neither =  68, both =    7, total =  408\n",
      "Gentianales          flowering = 545, fruiting = 399, neither =  88, both =   50, total =  982\n",
      "Geraniales           flowering = 744, fruiting = 166, neither = 229, both =  140, total =  999\n",
      "Gunnerales           flowering =  60, fruiting = 108, neither =  35, both =    2, total =  201\n",
      "Huerteales           flowering =   9, fruiting =   4, neither =   1, both =    0, total =   14\n",
      "Icacinales           flowering =   9, fruiting =  11, neither =   1, both =    0, total =   21\n",
      "Lamiales             flowering = 770, fruiting = 153, neither =  94, both =   41, total =  976\n",
      "Laurales             flowering = 303, fruiting = 387, neither = 267, both =   19, total =  938\n",
      "Liliales             flowering = 770, fruiting = 139, neither =  48, both =   14, total =  943\n",
      "Magnoliales          flowering =  50, fruiting = 237, neither = 706, both =    2, total =  991\n",
      "Malpighiales         flowering = 604, fruiting = 255, neither = 186, both =   84, total =  961\n",
      "Malvales             flowering = 713, fruiting = 182, neither = 120, both =   52, total =  963\n",
      "Metteniusales        flowering =  22, fruiting =  43, neither =   2, both =    1, total =   66\n",
      "Myrtales             flowering = 798, fruiting = 173, neither =  73, both =   68, total =  976\n",
      "Nymphaeales          flowering = 818, fruiting =  17, neither = 103, both =    7, total =  931\n",
      "Oxalidales           flowering = 797, fruiting =  48, neither = 156, both =   19, total =  982\n",
      "Pandanales           flowering = 283, fruiting = 280, neither =  70, both =   15, total =  618\n",
      "Paracryphiales       flowering =  39, fruiting =  11, neither =   6, both =    0, total =   56\n",
      "Petrosaviales        flowering =   2, fruiting =   0, neither =   0, both =    0, total =    2\n",
      "Picramniales         flowering =   8, fruiting =  11, neither =   0, both =    1, total =   18\n",
      "Piperales            flowering = 636, fruiting = 102, neither = 251, both =   24, total =  965\n",
      "Poales               flowering = 387, fruiting = 514, neither =  96, both =   18, total =  979\n",
      "Proteales            flowering = 715, fruiting = 168, neither =  84, both =   23, total =  944\n",
      "Ranunculales         flowering = 635, fruiting = 229, neither = 138, both =   29, total =  973\n",
      "Rosales              flowering = 344, fruiting = 416, neither = 242, both =   25, total =  977\n",
      "Santalales           flowering = 494, fruiting = 406, neither =  82, both =   57, total =  925\n",
      "Sapindales           flowering = 216, fruiting = 440, neither = 331, both =   21, total =  966\n",
      "Saxifragales         flowering = 560, fruiting = 148, neither = 255, both =   14, total =  949\n",
      "Solanales            flowering = 673, fruiting = 356, neither =  64, both =  108, total =  985\n",
      "Trochodendrales      flowering =  23, fruiting =  15, neither =   4, both =    2, total =   40\n",
      "Vahliales            flowering =   5, fruiting =   0, neither =   0, both =    0, total =    5\n",
      "Vitales              flowering = 113, fruiting = 450, neither = 403, both =   31, total =  935\n",
      "Zingiberales         flowering = 710, fruiting = 252, neither = 133, both =  115, total =  980\n",
      "Zygophyllales        flowering = 631, fruiting = 340, neither = 149, both =  133, total =  987\n"
     ]
    },
    {
     "data": {
      "text/plain": [
       "44474"
      ]
     },
     "execution_count": 22,
     "metadata": {},
     "output_type": "execute_result"
    }
   ],
   "source": [
    "keys = sorted(counts.keys())\n",
    "for taxon in keys:\n",
    "    count = counts[taxon]\n",
    "    print(\n",
    "        f\"{taxon:20} flowering ={count['flowering']: 4}, \"\n",
    "        f\"fruiting ={count['fruiting']: 4}, neither ={count['neither']: 4}, \"\n",
    "        f\"both = {count['both']: 4}, total = {count['total']: 4}\"\n",
    "    )\n",
    "grand"
   ]
  },
  {
   "cell_type": "code",
   "execution_count": null,
   "id": "5c62ee6e-67bb-4635-9c2c-3db1336872bb",
   "metadata": {},
   "outputs": [],
   "source": []
  }
 ],
 "metadata": {
  "kernelspec": {
   "display_name": "Python 3 (ipykernel)",
   "language": "python",
   "name": "python3"
  },
  "language_info": {
   "codemirror_mode": {
    "name": "ipython",
    "version": 3
   },
   "file_extension": ".py",
   "mimetype": "text/x-python",
   "name": "python",
   "nbconvert_exporter": "python",
   "pygments_lexer": "ipython3",
   "version": "3.10.6"
  }
 },
 "nbformat": 4,
 "nbformat_minor": 5
}
