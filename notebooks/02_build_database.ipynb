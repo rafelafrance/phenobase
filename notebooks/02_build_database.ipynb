{
 "cells": [
  {
   "cell_type": "markdown",
   "id": "abdefb2f-10d9-483b-b43b-98f35bd03a87",
   "metadata": {},
   "source": [
    "# Build database"
   ]
  },
  {
   "cell_type": "code",
   "execution_count": 1,
   "id": "c772b794-b937-4746-82cd-cca8b51b07ce",
   "metadata": {
    "tags": []
   },
   "outputs": [],
   "source": [
    "import json\n",
    "import re\n",
    "import sqlite3\n",
    "from collections import defaultdict\n",
    "from pathlib import Path\n",
    "from types import SimpleNamespace\n",
    "\n",
    "import pandas as pd\n",
    "from tqdm.notebook import tqdm"
   ]
  },
  {
   "cell_type": "code",
   "execution_count": 2,
   "id": "bf753a1c-1f85-4796-9fb1-35ee23fafb1a",
   "metadata": {},
   "outputs": [],
   "source": [
    "INAT_DIR = Path(\"..\") / \"data\" / \"inat\""
   ]
  },
  {
   "cell_type": "code",
   "execution_count": 3,
   "id": "753aa408-ee34-4bce-91ba-5fd805811602",
   "metadata": {},
   "outputs": [],
   "source": [
    "args = SimpleNamespace(\n",
    "    obs_dir=INAT_DIR / \"obs\",\n",
    "    image_dir=INAT_DIR / \"images\",\n",
    "    db=INAT_DIR / \"inat.sqlite\",\n",
    "    taxa=INAT_DIR / \"taxa.csv.gz\",  # Loction of iNat taxon info\n",
    "    plantae=47126,  # The taxon ID for the plant kingdom\n",
    ")"
   ]
  },
  {
   "cell_type": "markdown",
   "id": "5177bcc3-9600-49a1-b356-d8648e4855a5",
   "metadata": {},
   "source": [
    "## Insert taxa data"
   ]
  },
  {
   "cell_type": "code",
   "execution_count": 4,
   "id": "1e59ed99-5163-498a-9ac2-21572d59ae79",
   "metadata": {
    "tags": []
   },
   "outputs": [
    {
     "data": {
      "text/plain": [
       "(1394173, 6)"
      ]
     },
     "execution_count": 4,
     "metadata": {},
     "output_type": "execute_result"
    }
   ],
   "source": [
    "taxa_df = pd.read_csv(\n",
    "    args.taxa,\n",
    "    sep=\"\\t\",\n",
    "    dtype={\n",
    "        \"taxon_id\": int,\n",
    "        \"ancestry\": str,\n",
    "        \"rank_level\": float,\n",
    "        \"rank\": str,\n",
    "        \"name\": str,\n",
    "        \"active\": bool,\n",
    "    },\n",
    ").fillna(\"\")\n",
    "taxa_df.shape"
   ]
  },
  {
   "cell_type": "code",
   "execution_count": 5,
   "id": "a2f085fb-3b2c-4816-9551-e382a89b8fc5",
   "metadata": {
    "tags": []
   },
   "outputs": [
    {
     "data": {
      "text/plain": [
       "(364137, 6)"
      ]
     },
     "execution_count": 5,
     "metadata": {},
     "output_type": "execute_result"
    }
   ],
   "source": [
    "taxa_df = taxa_df.loc[taxa_df[\"ancestry\"].str.contains(f\"/{args.plantae}/\")]\n",
    "taxa_df.shape"
   ]
  },
  {
   "cell_type": "code",
   "execution_count": 6,
   "id": "49f710a5-7bf6-433d-b8a7-14e4800f7846",
   "metadata": {},
   "outputs": [],
   "source": [
    "with sqlite3.connect(args.db) as cxn:\n",
    "    taxa_df.to_sql(\"taxa\", cxn, index=False, if_exists=\"replace\")"
   ]
  },
  {
   "cell_type": "markdown",
   "id": "116af19a-424c-4ff8-ac2a-de38c512b888",
   "metadata": {},
   "source": [
    "## Functions for parsing iNaturalist observation JSON records"
   ]
  },
  {
   "cell_type": "markdown",
   "id": "29f5ddbc-13bc-4642-9e90-3c329705362b",
   "metadata": {},
   "source": [
    "### Get record level data from the JSON record"
   ]
  },
  {
   "cell_type": "code",
   "execution_count": 7,
   "id": "7f074b66-3506-4938-b03e-ec7c84668b10",
   "metadata": {},
   "outputs": [],
   "source": [
    "def get_ids(rec, path):\n",
    "    order = path.stem.replace(\"order_\", \"\")\n",
    "    return {\n",
    "        \"obs_id\": rec[\"id\"],\n",
    "        \"split\": \"\",\n",
    "        \"order_\": order,\n",
    "    }"
   ]
  },
  {
   "cell_type": "markdown",
   "id": "25192b1b-39b6-4009-a39e-6f89e0cb8028",
   "metadata": {},
   "source": [
    "### Get phenology data from the JSON record"
   ]
  },
  {
   "cell_type": "code",
   "execution_count": 8,
   "id": "28f03f8f-ed77-4964-99f1-640609a6572d",
   "metadata": {},
   "outputs": [],
   "source": [
    "phenology = {\n",
    "    13: \"Flowering\",\n",
    "    14: \"Fruiting\",\n",
    "    # 15: \"Flower Budding\",\n",
    "    21: \"No Evidence of Flowering\",\n",
    "}\n",
    "\n",
    "\n",
    "def get_annotations(rec):\n",
    "    annos = [a[\"controlled_value_id\"] for a in rec[\"annotations\"]]\n",
    "    pheno = [phenology.get(a[\"controlled_value_id\"]) for a in rec[\"annotations\"]]\n",
    "    pheno = \", \".join([a for a in pheno if a])\n",
    "    return {\n",
    "        \"annotations\": \",\".join([str(a) for a in annos]),\n",
    "        \"phenology\": pheno,\n",
    "        \"flowering\": 1 if 13 in annos else 0,\n",
    "        \"fruiting\": 1 if 14 in annos else 0,\n",
    "        \"neither\": 1 if 21 in annos else 0,\n",
    "    }"
   ]
  },
  {
   "cell_type": "markdown",
   "id": "5414d820-4648-45e8-9a12-978034d5f5be",
   "metadata": {},
   "source": [
    "### Get taxon data from the JSON record"
   ]
  },
  {
   "cell_type": "code",
   "execution_count": 9,
   "id": "0c21d3e1-a7a0-4cf0-9894-31a0ac404e79",
   "metadata": {},
   "outputs": [],
   "source": [
    "def get_taxon(rec):\n",
    "    return {\n",
    "        \"taxon_id\": rec[\"taxon\"][\"id\"],\n",
    "        \"taxon\": rec[\"taxon\"][\"name\"],\n",
    "        \"ancestry\": rec[\"taxon\"][\"ancestry\"],\n",
    "    }"
   ]
  },
  {
   "cell_type": "markdown",
   "id": "ace85c94-21ed-4c87-9255-acf805630568",
   "metadata": {},
   "source": [
    "### Get image data from the JSON record"
   ]
  },
  {
   "cell_type": "code",
   "execution_count": 10,
   "id": "9ceb38ff-78e1-486b-8a5e-627b128d8cd8",
   "metadata": {},
   "outputs": [],
   "source": [
    "def get_images(rec, obs_id):\n",
    "    photos = []\n",
    "    for photo in rec[\"photos\"]:\n",
    "        url = photo[\"url\"].replace(\"square.\", size)\n",
    "        match = re.search(r\"/(\\d+)/[a-z]+\\.([a-z]+)$\", url, flags=re.I)\n",
    "\n",
    "        if not match:\n",
    "            continue\n",
    "\n",
    "        image_path = args.image_dir / f\"{match[1]}_{size}{match[2]}\"\n",
    "\n",
    "        if not image_path.exists():\n",
    "            continue\n",
    "\n",
    "        photos.append(\n",
    "            {\n",
    "                \"photo_id\": photo[\"id\"],\n",
    "                \"obs_id\": obs_id,\n",
    "                \"license\": photo[\"license_code\"],\n",
    "                \"path\": str(image_path),\n",
    "                \"url\": url,\n",
    "            }\n",
    "        )\n",
    "\n",
    "    return photos"
   ]
  },
  {
   "cell_type": "markdown",
   "id": "a5829522-b6cc-43cd-b2ea-813bf7e26867",
   "metadata": {},
   "source": [
    "### Build database records for the observations and images."
   ]
  },
  {
   "cell_type": "code",
   "execution_count": 11,
   "id": "a910a5f2-fc50-4a65-b7c4-0670aae602e9",
   "metadata": {},
   "outputs": [
    {
     "data": {
      "application/vnd.jupyter.widget-view+json": {
       "model_id": "cd98daa51a4344759b44ab972e213cec",
       "version_major": 2,
       "version_minor": 0
      },
      "text/plain": [
       "  0%|          | 0/64 [00:00<?, ?it/s]"
      ]
     },
     "metadata": {},
     "output_type": "display_data"
    }
   ],
   "source": [
    "size = \"medium.\"  # medium large original\n",
    "\n",
    "json_paths = sorted(args.obs_dir.glob(\"*.json\"))\n",
    "\n",
    "annotations = defaultdict(int)\n",
    "\n",
    "observations = []\n",
    "images = []\n",
    "\n",
    "for json_path in tqdm(json_paths):\n",
    "    with open(json_path) as in_file:\n",
    "        data = json.load(in_file)\n",
    "\n",
    "    for rec in data:\n",
    "        obs_rec = get_ids(rec, json_path)\n",
    "        obs_rec |= get_taxon(rec)\n",
    "        obs_rec |= get_annotations(rec)\n",
    "\n",
    "        if not obs_rec[\"phenology\"]:\n",
    "            continue\n",
    "\n",
    "        imgs = get_images(rec, obs_rec[\"obs_id\"])\n",
    "        if not imgs:\n",
    "            continue\n",
    "\n",
    "        images += imgs\n",
    "        observations.append(obs_rec)"
   ]
  },
  {
   "cell_type": "markdown",
   "id": "532a4a9c-de21-488f-a5e5-7a29a25578f4",
   "metadata": {},
   "source": [
    "### Build the data frames and write them to the database."
   ]
  },
  {
   "cell_type": "code",
   "execution_count": 12,
   "id": "eb38d979-3527-4afd-bba1-21fc80971fe5",
   "metadata": {},
   "outputs": [],
   "source": [
    "obs_df = pd.DataFrame(observations)\n",
    "\n",
    "img_df = pd.DataFrame(images)"
   ]
  },
  {
   "cell_type": "code",
   "execution_count": 13,
   "id": "126a6383-96c4-4c43-9df8-8927da0846fe",
   "metadata": {},
   "outputs": [],
   "source": [
    "with sqlite3.connect(args.db) as cxn:\n",
    "    obs_df.to_sql(\"obs\", cxn, index=False, if_exists=\"replace\")\n",
    "    img_df.to_sql(\"images\", cxn, index=False, if_exists=\"replace\")"
   ]
  },
  {
   "cell_type": "markdown",
   "id": "23b0b64a-a326-4b5c-842a-313b6cd4628c",
   "metadata": {},
   "source": [
    "## Count records for each order and each phenology category"
   ]
  },
  {
   "cell_type": "code",
   "execution_count": 19,
   "id": "764050a3-86d1-4012-801f-c8f9fbf5afa4",
   "metadata": {},
   "outputs": [],
   "source": [
    "counts = defaultdict(\n",
    "    lambda: {\n",
    "        \"both\": 0,\n",
    "        \"flowering\": 0,\n",
    "        \"fruiting\": 0,\n",
    "        \"neither\": 0,\n",
    "        \"total\": 0,\n",
    "    }\n",
    ")\n",
    "grand = 0"
   ]
  },
  {
   "cell_type": "code",
   "execution_count": 20,
   "id": "35ac37e1-43c5-4820-8ffd-740650d09224",
   "metadata": {},
   "outputs": [],
   "source": [
    "for obs in observations:\n",
    "    count = counts[obs[\"order_\"]]\n",
    "    count[\"total\"] += 1\n",
    "    grand += 1\n",
    "\n",
    "    if obs[\"flowering\"] and obs[\"fruiting\"]:\n",
    "        count[\"both\"] += 1\n",
    "\n",
    "    for key in [\"flowering\", \"fruiting\", \"neither\"]:\n",
    "        if obs[key]:\n",
    "            count[key] += 1"
   ]
  },
  {
   "cell_type": "code",
   "execution_count": 21,
   "id": "2cb1b7c0-1b88-4f87-a6be-bb1304655cea",
   "metadata": {},
   "outputs": [
    {
     "name": "stdout",
     "output_type": "stream",
     "text": [
      "Acorales             flowering =   28, fruiting =   29, neither =    9, both =     1, total =    65\n",
      "Alismatales          flowering =  531, fruiting =  426, neither =  559, both =    55, total =  1461\n",
      "Amborellales         flowering =    0, fruiting =    6, neither =    0, both =     0, total =     6\n",
      "Apiales              flowering = 1020, fruiting =  331, neither =  212, both =   132, total =  1431\n",
      "Aquifoliales         flowering =  210, fruiting =  924, neither =  322, both =     7, total =  1449\n",
      "Arecales             flowering =  221, fruiting =  560, neither =  707, both =    42, total =  1446\n",
      "Asparagales          flowering =  838, fruiting =  156, neither =  476, both =    28, total =  1442\n",
      "Asterales            flowering = 1190, fruiting =  184, neither =  158, both =    74, total =  1458\n",
      "Austrobaileyales     flowering =   96, fruiting =   39, neither =    7, both =     4, total =   138\n",
      "Berberidopsidales    flowering =    9, fruiting =    0, neither =    6, both =     0, total =    15\n",
      "Boraginales          flowering = 1219, fruiting =  182, neither =  165, both =    91, total =  1475\n",
      "Brassicales          flowering = 1063, fruiting =  496, neither =  215, both =   310, total =  1464\n",
      "Bruniales            flowering =  179, fruiting =    8, neither =    1, both =     4, total =   184\n",
      "Buxales              flowering =  195, fruiting =   21, neither =   67, both =     1, total =   282\n",
      "Canellales           flowering =  153, fruiting =  106, neither =   39, both =     8, total =   290\n",
      "Caryophyllales       flowering =  787, fruiting =  245, neither =  487, both =    66, total =  1453\n",
      "Celastrales          flowering =  223, fruiting = 1230, neither =   60, both =    22, total =  1491\n",
      "Ceratophyllales      flowering =    6, fruiting =    1, neither =   46, both =     0, total =    53\n",
      "Chloranthales        flowering =   54, fruiting =  120, neither =    3, both =     3, total =   174\n",
      "Commelinales         flowering = 1316, fruiting =   71, neither =  124, both =    34, total =  1477\n",
      "Cornales             flowering =  638, fruiting =  750, neither =  129, both =    62, total =  1455\n",
      "Crossosomatales      flowering =  435, fruiting =  499, neither =   65, both =     8, total =   991\n",
      "Cucurbitales         flowering =  561, fruiting = 1024, neither =   59, both =   160, total =  1484\n",
      "Dilleniales          flowering = 1381, fruiting =   58, neither =   58, both =    13, total =  1484\n",
      "Dioscoreales         flowering =  701, fruiting =  531, neither =  248, both =    53, total =  1427\n",
      "Dipsacales           flowering =  507, fruiting =  816, neither =  152, both =    27, total =  1448\n",
      "Ericales             flowering =  807, fruiting =  358, neither =  250, both =    38, total =  1377\n",
      "Escalloniales        flowering =  193, fruiting =   33, neither =   18, both =    13, total =   231\n",
      "Fabales              flowering = 1113, fruiting =  285, neither =  157, both =    94, total =  1461\n",
      "Fagales              flowering =  103, fruiting =  650, neither =  724, both =    12, total =  1465\n",
      "Garryales            flowering =  149, fruiting =  201, neither =   69, both =     7, total =   412\n",
      "Gentianales          flowering =  875, fruiting =  542, neither =  120, both =    68, total =  1469\n",
      "Geraniales           flowering = 1149, fruiting =  267, neither =  305, both =   227, total =  1494\n",
      "Gunnerales           flowering =   60, fruiting =  108, neither =   35, both =     2, total =   201\n",
      "Huerteales           flowering =    9, fruiting =    4, neither =    1, both =     0, total =    14\n",
      "Icacinales           flowering =    9, fruiting =   11, neither =    1, both =     0, total =    21\n",
      "Lamiales             flowering = 1155, fruiting =  217, neither =  150, both =    54, total =  1468\n",
      "Laurales             flowering =  617, fruiting =  472, neither =  318, both =    38, total =  1369\n",
      "Liliales             flowering = 1154, fruiting =  219, neither =   81, both =    24, total =  1430\n",
      "Magnoliales          flowering =   64, fruiting =  413, neither = 1016, both =     2, total =  1491\n",
      "Malpighiales         flowering =  918, fruiting =  372, neither =  278, both =   119, total =  1449\n",
      "Malvales             flowering = 1076, fruiting =  275, neither =  183, both =    85, total =  1449\n",
      "Metteniusales        flowering =   22, fruiting =   43, neither =    2, both =     1, total =    66\n",
      "Myrtales             flowering = 1166, fruiting =  262, neither =  129, both =    94, total =  1463\n",
      "Nymphaeales          flowering = 1235, fruiting =   38, neither =  143, both =    11, total =  1405\n",
      "Oxalidales           flowering = 1229, fruiting =   63, neither =  211, both =    26, total =  1477\n",
      "Pandanales           flowering =  283, fruiting =  280, neither =   70, both =    15, total =   618\n",
      "Paracryphiales       flowering =   39, fruiting =   11, neither =    6, both =     0, total =    56\n",
      "Petrosaviales        flowering =    2, fruiting =    0, neither =    0, both =     0, total =     2\n",
      "Picramniales         flowering =    8, fruiting =   11, neither =    0, both =     1, total =    18\n",
      "Piperales            flowering =  967, fruiting =  136, neither =  375, both =    37, total =  1441\n",
      "Poales               flowering =  616, fruiting =  742, neither =  136, both =    31, total =  1463\n",
      "Proteales            flowering = 1062, fruiting =  259, neither =  137, both =    40, total =  1418\n",
      "Ranunculales         flowering =  950, fruiting =  348, neither =  197, both =    47, total =  1448\n",
      "Rosales              flowering =  495, fruiting =  642, neither =  366, both =    37, total =  1466\n",
      "Santalales           flowering =  705, fruiting =  634, neither =  146, both =    87, total =  1398\n",
      "Sapindales           flowering =  309, fruiting =  642, neither =  531, both =    33, total =  1449\n",
      "Saxifragales         flowering =  829, fruiting =  259, neither =  377, both =    35, total =  1430\n",
      "Solanales            flowering = 1005, fruiting =  550, neither =  100, both =   174, total =  1481\n",
      "Trochodendrales      flowering =   23, fruiting =   15, neither =    4, both =     2, total =    40\n",
      "Vahliales            flowering =    5, fruiting =    0, neither =    0, both =     0, total =     5\n",
      "Vitales              flowering =  153, fruiting =  655, neither =  638, both =    38, total =  1408\n",
      "Zingiberales         flowering = 1098, fruiting =  365, neither =  173, both =   164, total =  1472\n",
      "Zygophyllales        flowering =  872, fruiting =  513, neither =  263, both =   177, total =  1471\n"
     ]
    },
    {
     "data": {
      "text/plain": [
       "64839"
      ]
     },
     "execution_count": 21,
     "metadata": {},
     "output_type": "execute_result"
    }
   ],
   "source": [
    "keys = sorted(counts.keys())\n",
    "for taxon in keys:\n",
    "    count = counts[taxon]\n",
    "    print(\n",
    "        f\"{taxon:20} flowering ={count['flowering']: 5}, \"\n",
    "        f\"fruiting ={count['fruiting']: 5}, neither ={count['neither']: 5}, \"\n",
    "        f\"both = {count['both']: 5}, total = {count['total']: 5}\"\n",
    "    )\n",
    "grand"
   ]
  },
  {
   "cell_type": "code",
   "execution_count": null,
   "id": "5c62ee6e-67bb-4635-9c2c-3db1336872bb",
   "metadata": {},
   "outputs": [],
   "source": []
  }
 ],
 "metadata": {
  "kernelspec": {
   "display_name": "Python 3 (ipykernel)",
   "language": "python",
   "name": "python3"
  },
  "language_info": {
   "codemirror_mode": {
    "name": "ipython",
    "version": 3
   },
   "file_extension": ".py",
   "mimetype": "text/x-python",
   "name": "python",
   "nbconvert_exporter": "python",
   "pygments_lexer": "ipython3",
   "version": "3.10.6"
  }
 },
 "nbformat": 4,
 "nbformat_minor": 5
}
