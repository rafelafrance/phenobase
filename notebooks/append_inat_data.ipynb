{
 "cells": [
  {
   "cell_type": "code",
   "execution_count": 1,
   "id": "35351ce3-8f81-42fa-b934-5be46749f403",
   "metadata": {},
   "outputs": [],
   "source": [
    "import csv\n",
    "import json\n",
    "import socket\n",
    "import time\n",
    "from collections import defaultdict\n",
    "from pathlib import Path\n",
    "from urllib.error import HTTPError, URLError\n",
    "\n",
    "import pandas as pd\n",
    "import requests\n",
    "from tqdm import tqdm"
   ]
  },
  {
   "cell_type": "code",
   "execution_count": 2,
   "id": "b686dcab-2adc-4a78-8b4c-4337e4abed45",
   "metadata": {},
   "outputs": [],
   "source": [
    "ERRORS = [\n",
    "    HTTPError,\n",
    "    URLError,\n",
    "    requests.exceptions.ReadTimeout,\n",
    "]\n",
    "\n",
    "TIMEOUT = 20  # Seconds to wait for a server reply\n",
    "DELAY = 1  # Seconds to delay between attempts to download a file\n",
    "\n",
    "# Set a timeout for requests\n",
    "socket.setdefaulttimeout(TIMEOUT)"
   ]
  },
  {
   "cell_type": "code",
   "execution_count": 3,
   "id": "da946b5d-5ffe-4e06-9e15-b0d066a07664",
   "metadata": {},
   "outputs": [],
   "source": [
    "DATA = Path(\"..\") / \"data\"\n",
    "CSV = DATA / \"my_observation10.csv\"\n",
    "OUT = DATA / \"inat_obs10\"\n",
    "URL = \"https://api.inaturalist.org/v1/observations/{}\"\n",
    "WITH_OBS = DATA / \"my_observation10_anno_a.csv\""
   ]
  },
  {
   "cell_type": "code",
   "execution_count": 4,
   "id": "0fb952ab-0441-4dae-84f0-7959c3314e04",
   "metadata": {},
   "outputs": [],
   "source": [
    "ATTR = {\n",
    "    9: \"sex\",\n",
    "    12: \"flowers_and_fruits\",\n",
    "    36: \"leaves\",\n",
    "}\n",
    "\n",
    "VAL = {\n",
    "    # Sex\n",
    "    10: \"Female\",\n",
    "    11: \"Male\",\n",
    "    20: \"Cannot Be Determined\",\n",
    "    #\n",
    "    # Flowers & fruits\n",
    "    21: \"No flowers or fruits\",\n",
    "    15: \"Flower buds\",\n",
    "    13: \"Flowers\",\n",
    "    14: \"Fruits or Seeds\",\n",
    "    #\n",
    "    # Leaves\n",
    "    37: \"Breaking leaf buds\",\n",
    "    38: \"Green leaves\",\n",
    "    39: \"Colored leaves\",\n",
    "    40: \"No live leaves\",\n",
    "}"
   ]
  },
  {
   "cell_type": "markdown",
   "id": "c5d70092-a93f-4b7a-a843-b18044ec8472",
   "metadata": {},
   "source": [
    "Get observation IDs"
   ]
  },
  {
   "cell_type": "code",
   "execution_count": 5,
   "id": "5160aa12-51b7-4ef0-98e9-55a98391ecea",
   "metadata": {},
   "outputs": [
    {
     "name": "stdout",
     "output_type": "stream",
     "text": [
      "6127\n"
     ]
    }
   ],
   "source": [
    "obs = {}\n",
    "\n",
    "with CSV.open() as inp:\n",
    "    reader = csv.DictReader(inp)\n",
    "    for row in reader:\n",
    "        obs[row[\"id\"]] = row\n",
    "\n",
    "OBS = dict(sorted(obs.items()))\n",
    "\n",
    "print(len(OBS))"
   ]
  },
  {
   "cell_type": "code",
   "execution_count": 6,
   "id": "93d481da-a706-4155-8dbd-80c7147cc0fd",
   "metadata": {},
   "outputs": [],
   "source": [
    "def download(id_):\n",
    "    path: Path = OUT / f\"{id_}.json\"\n",
    "    url: str = URL.format(id_)\n",
    "\n",
    "    if path.exists():\n",
    "        return 1\n",
    "\n",
    "    time.sleep(DELAY)\n",
    "\n",
    "    try:\n",
    "        response = requests.get(url, timeout=DELAY)\n",
    "\n",
    "        json.loads(response.text)\n",
    "\n",
    "        with path.open(\"w\") as out:\n",
    "            out.write(response.text)\n",
    "\n",
    "    except ValueError:\n",
    "        print(f\"{id_} bad json\")\n",
    "        print(response.text)\n",
    "        return 0\n",
    "\n",
    "    except ERRORS:\n",
    "        print(f\"{id_} error\")\n",
    "        return 0\n",
    "\n",
    "    return 1\n",
    "\n",
    "\n",
    "# download(list(OBS.keys())[0])"
   ]
  },
  {
   "cell_type": "code",
   "execution_count": 7,
   "id": "4985c38e-3a18-4cac-944a-5fff8953b98a",
   "metadata": {
    "scrolled": true
   },
   "outputs": [],
   "source": [
    "def download_all():\n",
    "    for id_ in tqdm(OBS.keys()):\n",
    "        result = download(id_)\n",
    "        if result == 0:\n",
    "            break\n",
    "\n",
    "\n",
    "# download_all()"
   ]
  },
  {
   "cell_type": "code",
   "execution_count": 8,
   "id": "c14e1060-7bbb-4d7c-a60d-e0d1fe0cda5c",
   "metadata": {},
   "outputs": [
    {
     "name": "stderr",
     "output_type": "stream",
     "text": [
      "100%|███████████████████████████████████████████████████████████████████████████████████████████████████████████████████████████████████████████████████████| 6127/6127 [00:01<00:00, 3197.73it/s]\n"
     ]
    }
   ],
   "source": [
    "def append_all_annotations():\n",
    "    for id_, obs in tqdm(OBS.items()):\n",
    "        path: Path = OUT / f\"{id_}.json\"\n",
    "\n",
    "        with path.open() as inp:\n",
    "            data = json.load(inp)\n",
    "            attrs = defaultdict(list)\n",
    "            for result in data[\"results\"]:\n",
    "                for anno in result[\"annotations\"]:\n",
    "                    try:\n",
    "                        key = ATTR[anno[\"controlled_attribute_id\"]]\n",
    "                        val = VAL[anno[\"controlled_value_id\"]]\n",
    "                        attrs[key].append(val)\n",
    "                    except KeyError:\n",
    "                        pass\n",
    "\n",
    "        for key, vals in attrs.items():\n",
    "            obs[key] = \",\".join(vals)\n",
    "\n",
    "\n",
    "append_all_annotations()"
   ]
  },
  {
   "cell_type": "code",
   "execution_count": 9,
   "id": "01701e21-9846-4992-b012-5781c478af7f",
   "metadata": {},
   "outputs": [],
   "source": [
    "df = pd.DataFrame(OBS.values())\n",
    "df.to_csv(WITH_OBS, index=False)"
   ]
  },
  {
   "cell_type": "code",
   "execution_count": null,
   "id": "ea14cbbd-712b-4ea9-8d50-d4b075a02c65",
   "metadata": {},
   "outputs": [],
   "source": []
  }
 ],
 "metadata": {
  "kernelspec": {
   "display_name": "Python 3 (ipykernel)",
   "language": "python",
   "name": "python3"
  },
  "language_info": {
   "codemirror_mode": {
    "name": "ipython",
    "version": 3
   },
   "file_extension": ".py",
   "mimetype": "text/x-python",
   "name": "python",
   "nbconvert_exporter": "python",
   "pygments_lexer": "ipython3",
   "version": "3.12.8"
  }
 },
 "nbformat": 4,
 "nbformat_minor": 5
}
