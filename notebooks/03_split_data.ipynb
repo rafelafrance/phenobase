{
 "cells": [
  {
   "cell_type": "markdown",
   "id": "621942e9-8ad7-400f-ae98-380001a459ca",
   "metadata": {},
   "source": [
    "# Split data into training, validation, and testing datasets"
   ]
  },
  {
   "cell_type": "markdown",
   "id": "0277ecea-d1ae-4eeb-9ecb-c9878a16513e",
   "metadata": {},
   "source": [
    "There are a couple of wrinkles we need to consider:\n",
    "1. I am trying for a 60/20/20% training/validation/test split as best as the other constraints will allow.\n",
    "1. Because I am using order information to the models I need to split the data for each plant order.\n",
    "1. The are classes and orders are not uniformly imbalanced.\n",
    "1. Multiple images per observation: I don't want to leak information to the models so we are splitting observations and **NOT** images.\n",
    "1. Considering data leaks again, records that have both flowers and fruits have to be handled so that both wind up in the same split.\n",
    "1. For underrepresented plant orders I make sure to add records to the test set first then the training set and finally the validation set."
   ]
  },
  {
   "cell_type": "code",
   "execution_count": 1,
   "id": "e9846aa5-4870-4ece-8e84-d0f413e989a6",
   "metadata": {
    "tags": []
   },
   "outputs": [],
   "source": [
    "import sqlite3\n",
    "from pathlib import Path\n",
    "from types import SimpleNamespace\n",
    "\n",
    "import pandas as pd"
   ]
  },
  {
   "cell_type": "code",
   "execution_count": 2,
   "id": "dc5fb242-6bd7-441e-b160-2df7173329b0",
   "metadata": {
    "tags": []
   },
   "outputs": [],
   "source": [
    "DATA_DIR = Path(\"..\") / \"data\""
   ]
  },
  {
   "cell_type": "code",
   "execution_count": 3,
   "id": "ae0061d6-99f6-4e2f-96dc-a35335a52e1c",
   "metadata": {
    "tags": []
   },
   "outputs": [],
   "source": [
    "args = SimpleNamespace(\n",
    "    db=DATA_DIR / \"inat\" / \"inat.sqlite\",\n",
    ")"
   ]
  },
  {
   "cell_type": "markdown",
   "id": "d7fb919a-57b4-45e1-ae0a-eb32998935e1",
   "metadata": {},
   "source": [
    "## Read observation data"
   ]
  },
  {
   "cell_type": "code",
   "execution_count": 4,
   "id": "bbd9fce4-4db0-47db-8b5f-15e488aa6225",
   "metadata": {
    "tags": []
   },
   "outputs": [
    {
     "data": {
      "text/html": [
       "<div>\n",
       "<style scoped>\n",
       "    .dataframe tbody tr th:only-of-type {\n",
       "        vertical-align: middle;\n",
       "    }\n",
       "\n",
       "    .dataframe tbody tr th {\n",
       "        vertical-align: top;\n",
       "    }\n",
       "\n",
       "    .dataframe thead th {\n",
       "        text-align: right;\n",
       "    }\n",
       "</style>\n",
       "<table border=\"1\" class=\"dataframe\">\n",
       "  <thead>\n",
       "    <tr style=\"text-align: right;\">\n",
       "      <th></th>\n",
       "      <th>obs_id</th>\n",
       "      <th>split</th>\n",
       "      <th>order</th>\n",
       "      <th>taxon_id</th>\n",
       "      <th>taxon</th>\n",
       "      <th>ancestry</th>\n",
       "      <th>annotations</th>\n",
       "      <th>phenology</th>\n",
       "    </tr>\n",
       "  </thead>\n",
       "  <tbody>\n",
       "    <tr>\n",
       "      <th>0</th>\n",
       "      <td>146020079</td>\n",
       "      <td></td>\n",
       "      <td>Saxifragales</td>\n",
       "      <td>47129</td>\n",
       "      <td>Ribes californicum</td>\n",
       "      <td>48460/47126/211194/47125/47124/71289/47131/47130</td>\n",
       "      <td>13,15</td>\n",
       "      <td>Flowering</td>\n",
       "    </tr>\n",
       "    <tr>\n",
       "      <th>1</th>\n",
       "      <td>145993241</td>\n",
       "      <td></td>\n",
       "      <td>Saxifragales</td>\n",
       "      <td>47129</td>\n",
       "      <td>Ribes californicum</td>\n",
       "      <td>48460/47126/211194/47125/47124/71289/47131/47130</td>\n",
       "      <td>21</td>\n",
       "      <td>No Evidence of Flowering</td>\n",
       "    </tr>\n",
       "    <tr>\n",
       "      <th>2</th>\n",
       "      <td>145877878</td>\n",
       "      <td></td>\n",
       "      <td>Saxifragales</td>\n",
       "      <td>47129</td>\n",
       "      <td>Ribes californicum</td>\n",
       "      <td>48460/47126/211194/47125/47124/71289/47131/47130</td>\n",
       "      <td>13</td>\n",
       "      <td>Flowering</td>\n",
       "    </tr>\n",
       "    <tr>\n",
       "      <th>3</th>\n",
       "      <td>143674797</td>\n",
       "      <td></td>\n",
       "      <td>Saxifragales</td>\n",
       "      <td>47129</td>\n",
       "      <td>Ribes californicum</td>\n",
       "      <td>48460/47126/211194/47125/47124/71289/47131/47130</td>\n",
       "      <td>13</td>\n",
       "      <td>Flowering</td>\n",
       "    </tr>\n",
       "    <tr>\n",
       "      <th>4</th>\n",
       "      <td>145357142</td>\n",
       "      <td></td>\n",
       "      <td>Rosales</td>\n",
       "      <td>47146</td>\n",
       "      <td>Adenostoma fasciculatum</td>\n",
       "      <td>48460/47126/211194/47125/47124/47132/47148/922...</td>\n",
       "      <td>21</td>\n",
       "      <td>No Evidence of Flowering</td>\n",
       "    </tr>\n",
       "  </tbody>\n",
       "</table>\n",
       "</div>"
      ],
      "text/plain": [
       "      obs_id split         order  taxon_id                    taxon  \\\n",
       "0  146020079        Saxifragales     47129       Ribes californicum   \n",
       "1  145993241        Saxifragales     47129       Ribes californicum   \n",
       "2  145877878        Saxifragales     47129       Ribes californicum   \n",
       "3  143674797        Saxifragales     47129       Ribes californicum   \n",
       "4  145357142             Rosales     47146  Adenostoma fasciculatum   \n",
       "\n",
       "                                            ancestry annotations  \\\n",
       "0   48460/47126/211194/47125/47124/71289/47131/47130       13,15   \n",
       "1   48460/47126/211194/47125/47124/71289/47131/47130          21   \n",
       "2   48460/47126/211194/47125/47124/71289/47131/47130          13   \n",
       "3   48460/47126/211194/47125/47124/71289/47131/47130          13   \n",
       "4  48460/47126/211194/47125/47124/47132/47148/922...          21   \n",
       "\n",
       "                  phenology  \n",
       "0                 Flowering  \n",
       "1  No Evidence of Flowering  \n",
       "2                 Flowering  \n",
       "3                 Flowering  \n",
       "4  No Evidence of Flowering  "
      ]
     },
     "execution_count": 4,
     "metadata": {},
     "output_type": "execute_result"
    }
   ],
   "source": [
    "with sqlite3.connect(args.db) as cxn:\n",
    "    df = pd.read_sql(\"select * from obs order by taxon_id\", cxn)\n",
    "\n",
    "df.head()"
   ]
  },
  {
   "cell_type": "code",
   "execution_count": 5,
   "id": "41f20446-1910-4b11-8ffc-6abe418ca53b",
   "metadata": {
    "tags": []
   },
   "outputs": [
    {
     "data": {
      "text/plain": [
       "(64839, 8)"
      ]
     },
     "execution_count": 5,
     "metadata": {},
     "output_type": "execute_result"
    }
   ],
   "source": [
    "df.shape"
   ]
  },
  {
   "cell_type": "code",
   "execution_count": null,
   "id": "9a8fec3d-3ac6-426b-af52-370f920e1e40",
   "metadata": {},
   "outputs": [],
   "source": []
  }
 ],
 "metadata": {
  "kernelspec": {
   "display_name": "Python 3 (ipykernel)",
   "language": "python",
   "name": "python3"
  },
  "language_info": {
   "codemirror_mode": {
    "name": "ipython",
    "version": 3
   },
   "file_extension": ".py",
   "mimetype": "text/x-python",
   "name": "python",
   "nbconvert_exporter": "python",
   "pygments_lexer": "ipython3",
   "version": "3.10.6"
  }
 },
 "nbformat": 4,
 "nbformat_minor": 5
}
