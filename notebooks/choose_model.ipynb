{
 "cells": [
  {
   "cell_type": "markdown",
   "id": "fec5b9c6-c400-483a-8a72-ea7b5027ca96",
   "metadata": {},
   "source": [
    "# Find best models\n",
    "\n",
    "Find the best model for each trait."
   ]
  },
  {
   "cell_type": "code",
   "execution_count": 1,
   "id": "3e555b82-c917-4316-a397-0e3e3986d5af",
   "metadata": {},
   "outputs": [],
   "source": [
    "import sys\n",
    "\n",
    "sys.path.append(\"..\")"
   ]
  },
  {
   "cell_type": "code",
   "execution_count": 2,
   "id": "fdd43909-fe0f-47a6-9ac6-831141055f10",
   "metadata": {},
   "outputs": [],
   "source": [
    "from pathlib import Path\n",
    "\n",
    "import pandas as pd\n"
   ]
  },
  {
   "cell_type": "code",
   "execution_count": 3,
   "id": "b264cf6c-a76d-49c7-a165-dff4a9575aa3",
   "metadata": {},
   "outputs": [
    {
     "ename": "FileNotFoundError",
     "evalue": "[Errno 2] No such file or directory: '../data/thresholds.csv'",
     "output_type": "error",
     "traceback": [
      "\u001b[0;31m---------------------------------------------------------------------------\u001b[0m",
      "\u001b[0;31mFileNotFoundError\u001b[0m                         Traceback (most recent call last)",
      "Cell \u001b[0;32mIn[3], line 3\u001b[0m\n\u001b[1;32m      1\u001b[0m CSV \u001b[38;5;241m=\u001b[39m Path(\u001b[38;5;124m\"\u001b[39m\u001b[38;5;124m..\u001b[39m\u001b[38;5;124m\"\u001b[39m) \u001b[38;5;241m/\u001b[39m \u001b[38;5;124m\"\u001b[39m\u001b[38;5;124mdata\u001b[39m\u001b[38;5;124m\"\u001b[39m \u001b[38;5;241m/\u001b[39m \u001b[38;5;124m\"\u001b[39m\u001b[38;5;124mthresholds.csv\u001b[39m\u001b[38;5;124m\"\u001b[39m\n\u001b[0;32m----> 3\u001b[0m DF \u001b[38;5;241m=\u001b[39m \u001b[43mpd\u001b[49m\u001b[38;5;241;43m.\u001b[39;49m\u001b[43mread_csv\u001b[49m\u001b[43m(\u001b[49m\u001b[43mCSV\u001b[49m\u001b[43m)\u001b[49m\n\u001b[1;32m      4\u001b[0m DF\u001b[38;5;241m.\u001b[39mshape\n",
      "File \u001b[0;32m/srv/work/rafe/phenology/phenobase/.venv/lib/python3.11/site-packages/pandas/io/parsers/readers.py:1026\u001b[0m, in \u001b[0;36mread_csv\u001b[0;34m(filepath_or_buffer, sep, delimiter, header, names, index_col, usecols, dtype, engine, converters, true_values, false_values, skipinitialspace, skiprows, skipfooter, nrows, na_values, keep_default_na, na_filter, verbose, skip_blank_lines, parse_dates, infer_datetime_format, keep_date_col, date_parser, date_format, dayfirst, cache_dates, iterator, chunksize, compression, thousands, decimal, lineterminator, quotechar, quoting, doublequote, escapechar, comment, encoding, encoding_errors, dialect, on_bad_lines, delim_whitespace, low_memory, memory_map, float_precision, storage_options, dtype_backend)\u001b[0m\n\u001b[1;32m   1013\u001b[0m kwds_defaults \u001b[38;5;241m=\u001b[39m _refine_defaults_read(\n\u001b[1;32m   1014\u001b[0m     dialect,\n\u001b[1;32m   1015\u001b[0m     delimiter,\n\u001b[0;32m   (...)\u001b[0m\n\u001b[1;32m   1022\u001b[0m     dtype_backend\u001b[38;5;241m=\u001b[39mdtype_backend,\n\u001b[1;32m   1023\u001b[0m )\n\u001b[1;32m   1024\u001b[0m kwds\u001b[38;5;241m.\u001b[39mupdate(kwds_defaults)\n\u001b[0;32m-> 1026\u001b[0m \u001b[38;5;28;01mreturn\u001b[39;00m \u001b[43m_read\u001b[49m\u001b[43m(\u001b[49m\u001b[43mfilepath_or_buffer\u001b[49m\u001b[43m,\u001b[49m\u001b[43m \u001b[49m\u001b[43mkwds\u001b[49m\u001b[43m)\u001b[49m\n",
      "File \u001b[0;32m/srv/work/rafe/phenology/phenobase/.venv/lib/python3.11/site-packages/pandas/io/parsers/readers.py:620\u001b[0m, in \u001b[0;36m_read\u001b[0;34m(filepath_or_buffer, kwds)\u001b[0m\n\u001b[1;32m    617\u001b[0m _validate_names(kwds\u001b[38;5;241m.\u001b[39mget(\u001b[38;5;124m\"\u001b[39m\u001b[38;5;124mnames\u001b[39m\u001b[38;5;124m\"\u001b[39m, \u001b[38;5;28;01mNone\u001b[39;00m))\n\u001b[1;32m    619\u001b[0m \u001b[38;5;66;03m# Create the parser.\u001b[39;00m\n\u001b[0;32m--> 620\u001b[0m parser \u001b[38;5;241m=\u001b[39m \u001b[43mTextFileReader\u001b[49m\u001b[43m(\u001b[49m\u001b[43mfilepath_or_buffer\u001b[49m\u001b[43m,\u001b[49m\u001b[43m \u001b[49m\u001b[38;5;241;43m*\u001b[39;49m\u001b[38;5;241;43m*\u001b[39;49m\u001b[43mkwds\u001b[49m\u001b[43m)\u001b[49m\n\u001b[1;32m    622\u001b[0m \u001b[38;5;28;01mif\u001b[39;00m chunksize \u001b[38;5;129;01mor\u001b[39;00m iterator:\n\u001b[1;32m    623\u001b[0m     \u001b[38;5;28;01mreturn\u001b[39;00m parser\n",
      "File \u001b[0;32m/srv/work/rafe/phenology/phenobase/.venv/lib/python3.11/site-packages/pandas/io/parsers/readers.py:1620\u001b[0m, in \u001b[0;36mTextFileReader.__init__\u001b[0;34m(self, f, engine, **kwds)\u001b[0m\n\u001b[1;32m   1617\u001b[0m     \u001b[38;5;28mself\u001b[39m\u001b[38;5;241m.\u001b[39moptions[\u001b[38;5;124m\"\u001b[39m\u001b[38;5;124mhas_index_names\u001b[39m\u001b[38;5;124m\"\u001b[39m] \u001b[38;5;241m=\u001b[39m kwds[\u001b[38;5;124m\"\u001b[39m\u001b[38;5;124mhas_index_names\u001b[39m\u001b[38;5;124m\"\u001b[39m]\n\u001b[1;32m   1619\u001b[0m \u001b[38;5;28mself\u001b[39m\u001b[38;5;241m.\u001b[39mhandles: IOHandles \u001b[38;5;241m|\u001b[39m \u001b[38;5;28;01mNone\u001b[39;00m \u001b[38;5;241m=\u001b[39m \u001b[38;5;28;01mNone\u001b[39;00m\n\u001b[0;32m-> 1620\u001b[0m \u001b[38;5;28mself\u001b[39m\u001b[38;5;241m.\u001b[39m_engine \u001b[38;5;241m=\u001b[39m \u001b[38;5;28;43mself\u001b[39;49m\u001b[38;5;241;43m.\u001b[39;49m\u001b[43m_make_engine\u001b[49m\u001b[43m(\u001b[49m\u001b[43mf\u001b[49m\u001b[43m,\u001b[49m\u001b[43m \u001b[49m\u001b[38;5;28;43mself\u001b[39;49m\u001b[38;5;241;43m.\u001b[39;49m\u001b[43mengine\u001b[49m\u001b[43m)\u001b[49m\n",
      "File \u001b[0;32m/srv/work/rafe/phenology/phenobase/.venv/lib/python3.11/site-packages/pandas/io/parsers/readers.py:1880\u001b[0m, in \u001b[0;36mTextFileReader._make_engine\u001b[0;34m(self, f, engine)\u001b[0m\n\u001b[1;32m   1878\u001b[0m     \u001b[38;5;28;01mif\u001b[39;00m \u001b[38;5;124m\"\u001b[39m\u001b[38;5;124mb\u001b[39m\u001b[38;5;124m\"\u001b[39m \u001b[38;5;129;01mnot\u001b[39;00m \u001b[38;5;129;01min\u001b[39;00m mode:\n\u001b[1;32m   1879\u001b[0m         mode \u001b[38;5;241m+\u001b[39m\u001b[38;5;241m=\u001b[39m \u001b[38;5;124m\"\u001b[39m\u001b[38;5;124mb\u001b[39m\u001b[38;5;124m\"\u001b[39m\n\u001b[0;32m-> 1880\u001b[0m \u001b[38;5;28mself\u001b[39m\u001b[38;5;241m.\u001b[39mhandles \u001b[38;5;241m=\u001b[39m \u001b[43mget_handle\u001b[49m\u001b[43m(\u001b[49m\n\u001b[1;32m   1881\u001b[0m \u001b[43m    \u001b[49m\u001b[43mf\u001b[49m\u001b[43m,\u001b[49m\n\u001b[1;32m   1882\u001b[0m \u001b[43m    \u001b[49m\u001b[43mmode\u001b[49m\u001b[43m,\u001b[49m\n\u001b[1;32m   1883\u001b[0m \u001b[43m    \u001b[49m\u001b[43mencoding\u001b[49m\u001b[38;5;241;43m=\u001b[39;49m\u001b[38;5;28;43mself\u001b[39;49m\u001b[38;5;241;43m.\u001b[39;49m\u001b[43moptions\u001b[49m\u001b[38;5;241;43m.\u001b[39;49m\u001b[43mget\u001b[49m\u001b[43m(\u001b[49m\u001b[38;5;124;43m\"\u001b[39;49m\u001b[38;5;124;43mencoding\u001b[39;49m\u001b[38;5;124;43m\"\u001b[39;49m\u001b[43m,\u001b[49m\u001b[43m \u001b[49m\u001b[38;5;28;43;01mNone\u001b[39;49;00m\u001b[43m)\u001b[49m\u001b[43m,\u001b[49m\n\u001b[1;32m   1884\u001b[0m \u001b[43m    \u001b[49m\u001b[43mcompression\u001b[49m\u001b[38;5;241;43m=\u001b[39;49m\u001b[38;5;28;43mself\u001b[39;49m\u001b[38;5;241;43m.\u001b[39;49m\u001b[43moptions\u001b[49m\u001b[38;5;241;43m.\u001b[39;49m\u001b[43mget\u001b[49m\u001b[43m(\u001b[49m\u001b[38;5;124;43m\"\u001b[39;49m\u001b[38;5;124;43mcompression\u001b[39;49m\u001b[38;5;124;43m\"\u001b[39;49m\u001b[43m,\u001b[49m\u001b[43m \u001b[49m\u001b[38;5;28;43;01mNone\u001b[39;49;00m\u001b[43m)\u001b[49m\u001b[43m,\u001b[49m\n\u001b[1;32m   1885\u001b[0m \u001b[43m    \u001b[49m\u001b[43mmemory_map\u001b[49m\u001b[38;5;241;43m=\u001b[39;49m\u001b[38;5;28;43mself\u001b[39;49m\u001b[38;5;241;43m.\u001b[39;49m\u001b[43moptions\u001b[49m\u001b[38;5;241;43m.\u001b[39;49m\u001b[43mget\u001b[49m\u001b[43m(\u001b[49m\u001b[38;5;124;43m\"\u001b[39;49m\u001b[38;5;124;43mmemory_map\u001b[39;49m\u001b[38;5;124;43m\"\u001b[39;49m\u001b[43m,\u001b[49m\u001b[43m \u001b[49m\u001b[38;5;28;43;01mFalse\u001b[39;49;00m\u001b[43m)\u001b[49m\u001b[43m,\u001b[49m\n\u001b[1;32m   1886\u001b[0m \u001b[43m    \u001b[49m\u001b[43mis_text\u001b[49m\u001b[38;5;241;43m=\u001b[39;49m\u001b[43mis_text\u001b[49m\u001b[43m,\u001b[49m\n\u001b[1;32m   1887\u001b[0m \u001b[43m    \u001b[49m\u001b[43merrors\u001b[49m\u001b[38;5;241;43m=\u001b[39;49m\u001b[38;5;28;43mself\u001b[39;49m\u001b[38;5;241;43m.\u001b[39;49m\u001b[43moptions\u001b[49m\u001b[38;5;241;43m.\u001b[39;49m\u001b[43mget\u001b[49m\u001b[43m(\u001b[49m\u001b[38;5;124;43m\"\u001b[39;49m\u001b[38;5;124;43mencoding_errors\u001b[39;49m\u001b[38;5;124;43m\"\u001b[39;49m\u001b[43m,\u001b[49m\u001b[43m \u001b[49m\u001b[38;5;124;43m\"\u001b[39;49m\u001b[38;5;124;43mstrict\u001b[39;49m\u001b[38;5;124;43m\"\u001b[39;49m\u001b[43m)\u001b[49m\u001b[43m,\u001b[49m\n\u001b[1;32m   1888\u001b[0m \u001b[43m    \u001b[49m\u001b[43mstorage_options\u001b[49m\u001b[38;5;241;43m=\u001b[39;49m\u001b[38;5;28;43mself\u001b[39;49m\u001b[38;5;241;43m.\u001b[39;49m\u001b[43moptions\u001b[49m\u001b[38;5;241;43m.\u001b[39;49m\u001b[43mget\u001b[49m\u001b[43m(\u001b[49m\u001b[38;5;124;43m\"\u001b[39;49m\u001b[38;5;124;43mstorage_options\u001b[39;49m\u001b[38;5;124;43m\"\u001b[39;49m\u001b[43m,\u001b[49m\u001b[43m \u001b[49m\u001b[38;5;28;43;01mNone\u001b[39;49;00m\u001b[43m)\u001b[49m\u001b[43m,\u001b[49m\n\u001b[1;32m   1889\u001b[0m \u001b[43m\u001b[49m\u001b[43m)\u001b[49m\n\u001b[1;32m   1890\u001b[0m \u001b[38;5;28;01massert\u001b[39;00m \u001b[38;5;28mself\u001b[39m\u001b[38;5;241m.\u001b[39mhandles \u001b[38;5;129;01mis\u001b[39;00m \u001b[38;5;129;01mnot\u001b[39;00m \u001b[38;5;28;01mNone\u001b[39;00m\n\u001b[1;32m   1891\u001b[0m f \u001b[38;5;241m=\u001b[39m \u001b[38;5;28mself\u001b[39m\u001b[38;5;241m.\u001b[39mhandles\u001b[38;5;241m.\u001b[39mhandle\n",
      "File \u001b[0;32m/srv/work/rafe/phenology/phenobase/.venv/lib/python3.11/site-packages/pandas/io/common.py:873\u001b[0m, in \u001b[0;36mget_handle\u001b[0;34m(path_or_buf, mode, encoding, compression, memory_map, is_text, errors, storage_options)\u001b[0m\n\u001b[1;32m    868\u001b[0m \u001b[38;5;28;01melif\u001b[39;00m \u001b[38;5;28misinstance\u001b[39m(handle, \u001b[38;5;28mstr\u001b[39m):\n\u001b[1;32m    869\u001b[0m     \u001b[38;5;66;03m# Check whether the filename is to be opened in binary mode.\u001b[39;00m\n\u001b[1;32m    870\u001b[0m     \u001b[38;5;66;03m# Binary mode does not support 'encoding' and 'newline'.\u001b[39;00m\n\u001b[1;32m    871\u001b[0m     \u001b[38;5;28;01mif\u001b[39;00m ioargs\u001b[38;5;241m.\u001b[39mencoding \u001b[38;5;129;01mand\u001b[39;00m \u001b[38;5;124m\"\u001b[39m\u001b[38;5;124mb\u001b[39m\u001b[38;5;124m\"\u001b[39m \u001b[38;5;129;01mnot\u001b[39;00m \u001b[38;5;129;01min\u001b[39;00m ioargs\u001b[38;5;241m.\u001b[39mmode:\n\u001b[1;32m    872\u001b[0m         \u001b[38;5;66;03m# Encoding\u001b[39;00m\n\u001b[0;32m--> 873\u001b[0m         handle \u001b[38;5;241m=\u001b[39m \u001b[38;5;28;43mopen\u001b[39;49m\u001b[43m(\u001b[49m\n\u001b[1;32m    874\u001b[0m \u001b[43m            \u001b[49m\u001b[43mhandle\u001b[49m\u001b[43m,\u001b[49m\n\u001b[1;32m    875\u001b[0m \u001b[43m            \u001b[49m\u001b[43mioargs\u001b[49m\u001b[38;5;241;43m.\u001b[39;49m\u001b[43mmode\u001b[49m\u001b[43m,\u001b[49m\n\u001b[1;32m    876\u001b[0m \u001b[43m            \u001b[49m\u001b[43mencoding\u001b[49m\u001b[38;5;241;43m=\u001b[39;49m\u001b[43mioargs\u001b[49m\u001b[38;5;241;43m.\u001b[39;49m\u001b[43mencoding\u001b[49m\u001b[43m,\u001b[49m\n\u001b[1;32m    877\u001b[0m \u001b[43m            \u001b[49m\u001b[43merrors\u001b[49m\u001b[38;5;241;43m=\u001b[39;49m\u001b[43merrors\u001b[49m\u001b[43m,\u001b[49m\n\u001b[1;32m    878\u001b[0m \u001b[43m            \u001b[49m\u001b[43mnewline\u001b[49m\u001b[38;5;241;43m=\u001b[39;49m\u001b[38;5;124;43m\"\u001b[39;49m\u001b[38;5;124;43m\"\u001b[39;49m\u001b[43m,\u001b[49m\n\u001b[1;32m    879\u001b[0m \u001b[43m        \u001b[49m\u001b[43m)\u001b[49m\n\u001b[1;32m    880\u001b[0m     \u001b[38;5;28;01melse\u001b[39;00m:\n\u001b[1;32m    881\u001b[0m         \u001b[38;5;66;03m# Binary mode\u001b[39;00m\n\u001b[1;32m    882\u001b[0m         handle \u001b[38;5;241m=\u001b[39m \u001b[38;5;28mopen\u001b[39m(handle, ioargs\u001b[38;5;241m.\u001b[39mmode)\n",
      "\u001b[0;31mFileNotFoundError\u001b[0m: [Errno 2] No such file or directory: '../data/thresholds.csv'"
     ]
    }
   ],
   "source": [
    "CSV = Path(\"..\") / \"data\" / \"thresholds.csv\"\n",
    "\n",
    "DF = pd.read_csv(CSV)\n",
    "DF.shape"
   ]
  },
  {
   "cell_type": "code",
   "execution_count": null,
   "id": "228267a5-49dc-4393-974e-f18560bb9875",
   "metadata": {},
   "outputs": [],
   "source": [
    "FRACT_CUTOFF = 0.75\n",
    "RECALL_CUTOFF = 0.5\n",
    "FP_CUTOFF = 0.05"
   ]
  },
  {
   "cell_type": "markdown",
   "id": "fed1e662-9bcf-4ef0-981c-f23c0d969bb6",
   "metadata": {},
   "source": [
    "## Flowers"
   ]
  },
  {
   "cell_type": "code",
   "execution_count": null,
   "id": "5876f2de-9799-4f82-9a05-9f6daf43bc03",
   "metadata": {},
   "outputs": [],
   "source": [
    "df_fl = DF.loc[\n",
    "    (DF[\"fract\"] >= FRACT_CUTOFF)\n",
    "    & (DF[\"trait\"] == \"flowers\")\n",
    "    & (DF[\"recall\"] >= RECALL_CUTOFF)\n",
    "]\n",
    "df_fl = df_fl.loc[(df_fl[\"fp\"] / df_fl[\"tp\"]) <= FP_CUTOFF]\n",
    "df_fl.shape"
   ]
  },
  {
   "cell_type": "code",
   "execution_count": null,
   "id": "0ddd0740-60c5-48c4-ae8c-86e95434e145",
   "metadata": {},
   "outputs": [],
   "source": [
    "best = df_fl[\"ppv\"].max()\n",
    "print(f\"best = {best}\")\n",
    "df_fl = df_fl.loc[df_fl[\"ppv\"] == best]\n",
    "df_fl.shape"
   ]
  },
  {
   "cell_type": "code",
   "execution_count": null,
   "id": "9c2251c0-d501-4e74-ad02-3247ebaa36b3",
   "metadata": {},
   "outputs": [],
   "source": [
    "most = df_fl[\"fract\"].max()\n",
    "print(f\"most = {most}\")\n",
    "df_fl = df_fl.loc[df_fl[\"fract\"] == most]\n",
    "df_fl.shape"
   ]
  },
  {
   "cell_type": "code",
   "execution_count": null,
   "id": "67eca47b-a105-434e-ba3b-b467176715a5",
   "metadata": {},
   "outputs": [],
   "source": [
    "print(\n",
    "    f\"tp = {df_fl.iloc[0]['tp']:4.0f}    fn = {df_fl.iloc[0]['fn']:4.0f}\\n\"\n",
    "    f\"fp = {df_fl.iloc[0]['fp']:4.0f}    tn = {df_fl.iloc[0]['tn']:4.0f}\"\n",
    ")\n",
    "\n",
    "df_fl.head()"
   ]
  },
  {
   "cell_type": "markdown",
   "id": "f1bed5bd-167b-457b-9b93-056512085876",
   "metadata": {},
   "source": [
    "## Fruits"
   ]
  },
  {
   "cell_type": "code",
   "execution_count": null,
   "id": "aed0a113-5da6-43f4-931f-47c81871d661",
   "metadata": {},
   "outputs": [],
   "source": [
    "df_fr = DF.loc[\n",
    "    (DF[\"fract\"] >= FRACT_CUTOFF)\n",
    "    & (DF[\"trait\"] == \"fruits\")\n",
    "    & (DF[\"recall\"] >= RECALL_CUTOFF)\n",
    "]\n",
    "df_fr = df_fr.loc[(df_fl[\"fp\"] / df_fr[\"tp\"]) <= FP_CUTOFF]\n",
    "df_fr.shape"
   ]
  },
  {
   "cell_type": "code",
   "execution_count": null,
   "id": "3ad1d90a-4f9c-4f34-8fab-75487065c58b",
   "metadata": {},
   "outputs": [],
   "source": [
    "best = df_fr[\"ppv\"].max()\n",
    "print(f\"best = {best}\")\n",
    "df_fr = df_fr.loc[df_fr[\"ppv\"] == best]\n",
    "df_fr.shape"
   ]
  },
  {
   "cell_type": "code",
   "execution_count": null,
   "id": "a26cebb6-838f-4283-9136-c0bfc6d1f090",
   "metadata": {},
   "outputs": [],
   "source": [
    "most = df_fr[\"fract\"].max()\n",
    "print(f\"most = {most}\")\n",
    "df_fr = df_fr.loc[df_fr[\"fract\"] == most]\n",
    "df_fr.shape"
   ]
  },
  {
   "cell_type": "code",
   "execution_count": null,
   "id": "08ae019d-8843-4fa8-b4bd-ca366c644f4e",
   "metadata": {},
   "outputs": [],
   "source": [
    "print(\n",
    "    f\"tp = {df_fr.iloc[0]['tp']:4.0f}    fn = {df_fr.iloc[0]['fn']:4.0f}\\n\"\n",
    "    f\"fp = {df_fr.iloc[0]['fp']:4.0f}    tn = {df_fr.iloc[0]['tn']:4.0f}\"\n",
    ")\n",
    "\n",
    "df_fr.head()"
   ]
  },
  {
   "cell_type": "markdown",
   "id": "0de111ef-63e2-43b4-8fb5-71805f756c23",
   "metadata": {},
   "source": [
    "## Leaves"
   ]
  },
  {
   "cell_type": "code",
   "execution_count": null,
   "id": "c55f9297-8ab1-4777-b491-8845dfc716dd",
   "metadata": {},
   "outputs": [],
   "source": [
    "df_lf = DF.loc[\n",
    "    (DF[\"fract\"] >= FRACT_CUTOFF)\n",
    "    & (DF[\"trait\"] == \"leaves\")\n",
    "    & (DF[\"recall\"] >= RECALL_CUTOFF)\n",
    "]\n",
    "df_lf = df_lf.loc[(df_fl[\"fp\"] / df_lf[\"tp\"]) <= FP_CUTOFF]\n",
    "df_lf.shape"
   ]
  },
  {
   "cell_type": "code",
   "execution_count": null,
   "id": "337d35a4-5d0c-461b-9669-f7cf34a2a853",
   "metadata": {},
   "outputs": [],
   "source": [
    "best = df_lf[\"ppv\"].max()\n",
    "print(f\"best = {best}\")\n",
    "df_lf = df_lf.loc[df_lf[\"ppv\"] == best]\n",
    "df_lf.shape"
   ]
  },
  {
   "cell_type": "code",
   "execution_count": null,
   "id": "194a47e6-8026-4f6b-9029-54e4c2f0c943",
   "metadata": {},
   "outputs": [],
   "source": [
    "most = df_lf[\"fract\"].max()\n",
    "print(f\"most = {most}\")\n",
    "df_lf = df_lf.loc[df_lf[\"fract\"] == most]\n",
    "df_lf.shape"
   ]
  },
  {
   "cell_type": "code",
   "execution_count": null,
   "id": "2b9b87d2-5973-4b50-9f2d-e0f8984d1ae4",
   "metadata": {},
   "outputs": [],
   "source": [
    "print(\n",
    "    f\"tp = {df_lf.iloc[0]['tp']:4.0f}    fn = {df_lf.iloc[0]['fn']:4.0f}\\n\"\n",
    "    f\"fp = {df_lf.iloc[0]['fp']:4.0f}    tn = {df_lf.iloc[0]['tn']:4.0f}\"\n",
    ")\n",
    "\n",
    "df_lf.head()"
   ]
  },
  {
   "cell_type": "code",
   "execution_count": null,
   "id": "919abac0-5469-4237-8d54-3517c6d2c499",
   "metadata": {},
   "outputs": [],
   "source": []
  }
 ],
 "metadata": {
  "kernelspec": {
   "display_name": "Python 3 (ipykernel)",
   "language": "python",
   "name": "python3"
  },
  "language_info": {
   "codemirror_mode": {
    "name": "ipython",
    "version": 3
   },
   "file_extension": ".py",
   "mimetype": "text/x-python",
   "name": "python",
   "nbconvert_exporter": "python",
   "pygments_lexer": "ipython3",
   "version": "3.11.10"
  }
 },
 "nbformat": 4,
 "nbformat_minor": 5
}
