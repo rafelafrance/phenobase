{
 "cells": [
  {
   "cell_type": "markdown",
   "id": "fec5b9c6-c400-483a-8a72-ea7b5027ca96",
   "metadata": {},
   "source": [
    "# Find best models\n",
    "\n",
    "Find the best model for each trait."
   ]
  },
  {
   "cell_type": "code",
   "execution_count": 1,
   "id": "3e555b82-c917-4316-a397-0e3e3986d5af",
   "metadata": {},
   "outputs": [],
   "source": [
    "import sys\n",
    "\n",
    "sys.path.append(\"..\")"
   ]
  },
  {
   "cell_type": "code",
   "execution_count": 2,
   "id": "fdd43909-fe0f-47a6-9ac6-831141055f10",
   "metadata": {},
   "outputs": [],
   "source": [
    "from dataclasses import dataclass, asdict\n",
    "from pathlib import Path\n",
    "\n",
    "import matplotlib.pyplot as plt\n",
    "import numpy as np\n",
    "import pandas as pd\n",
    "from ipywidgets import interact\n",
    "from tqdm import tqdm\n",
    "\n",
    "from phenobase.pylib.binary_metrics import Metrics\n",
    "from phenobase.pylib.util import TRAITS"
   ]
  },
  {
   "cell_type": "code",
   "execution_count": 3,
   "id": "b264cf6c-a76d-49c7-a165-dff4a9575aa3",
   "metadata": {},
   "outputs": [
    {
     "data": {
      "text/plain": [
       "(18000, 13)"
      ]
     },
     "execution_count": 3,
     "metadata": {},
     "output_type": "execute_result"
    }
   ],
   "source": [
    "CSV = Path(\"..\") / \"data\" / \"thresholds.csv\"\n",
    "\n",
    "DF = pd.read_csv(CSV)\n",
    "DF.shape"
   ]
  },
  {
   "cell_type": "code",
   "execution_count": 17,
   "id": "228267a5-49dc-4393-974e-f18560bb9875",
   "metadata": {},
   "outputs": [],
   "source": [
    "FRACT_CUTOFF = 0.75\n",
    "RECALL_CUTOFF = 0.5\n",
    "FP_CUTOFF = 0.05"
   ]
  },
  {
   "cell_type": "markdown",
   "id": "fed1e662-9bcf-4ef0-981c-f23c0d969bb6",
   "metadata": {},
   "source": [
    "## Flowers"
   ]
  },
  {
   "cell_type": "code",
   "execution_count": 23,
   "id": "5876f2de-9799-4f82-9a05-9f6daf43bc03",
   "metadata": {},
   "outputs": [
    {
     "data": {
      "text/plain": [
       "(0, 13)"
      ]
     },
     "execution_count": 23,
     "metadata": {},
     "output_type": "execute_result"
    }
   ],
   "source": [
    "df_fl = DF.loc[(DF[\"fract\"] >= FRACT_CUTOFF) & (DF[\"trait\"] == \"flowers\")] & (DF[\"recall\"] >= RECALL_CUTOFF)]\n",
    "df_fl = df_fl.loc[(df_fl[\"fp\"] / df_fl[\"tp\"]) <= FP_CUTOFF]\n",
    "df_fl.shape"
   ]
  },
  {
   "cell_type": "code",
   "execution_count": 6,
   "id": "0ddd0740-60c5-48c4-ae8c-86e95434e145",
   "metadata": {},
   "outputs": [
    {
     "name": "stdout",
     "output_type": "stream",
     "text": [
      "best = 0.9371980676328504\n"
     ]
    },
    {
     "data": {
      "text/plain": [
       "(1, 13)"
      ]
     },
     "execution_count": 6,
     "metadata": {},
     "output_type": "execute_result"
    }
   ],
   "source": [
    "best = df_fl[\"ppv\"].max()\n",
    "print(f\"best = {best}\")\n",
    "df_fl = df_fl.loc[df_fl[\"ppv\"] == best]\n",
    "df_fl.shape"
   ]
  },
  {
   "cell_type": "code",
   "execution_count": 7,
   "id": "9c2251c0-d501-4e74-ad02-3247ebaa36b3",
   "metadata": {},
   "outputs": [
    {
     "name": "stdout",
     "output_type": "stream",
     "text": [
      "most = 0.7836919592298981\n"
     ]
    },
    {
     "data": {
      "text/plain": [
       "(1, 13)"
      ]
     },
     "execution_count": 7,
     "metadata": {},
     "output_type": "execute_result"
    }
   ],
   "source": [
    "most = df_fl[\"fract\"].max()\n",
    "print(f\"most = {most}\")\n",
    "df_fl = df_fl.loc[df_fl[\"fract\"] == most]\n",
    "df_fl.shape"
   ]
  },
  {
   "cell_type": "code",
   "execution_count": 8,
   "id": "67eca47b-a105-434e-ba3b-b467176715a5",
   "metadata": {},
   "outputs": [
    {
     "name": "stdout",
     "output_type": "stream",
     "text": [
      "tp =  194    fn =  187\n",
      "fp =   13    tn =  298\n"
     ]
    },
    {
     "data": {
      "text/html": [
       "<div>\n",
       "<style scoped>\n",
       "    .dataframe tbody tr th:only-of-type {\n",
       "        vertical-align: middle;\n",
       "    }\n",
       "\n",
       "    .dataframe tbody tr th {\n",
       "        vertical-align: top;\n",
       "    }\n",
       "\n",
       "    .dataframe thead th {\n",
       "        text-align: right;\n",
       "    }\n",
       "</style>\n",
       "<table border=\"1\" class=\"dataframe\">\n",
       "  <thead>\n",
       "    <tr style=\"text-align: right;\">\n",
       "      <th></th>\n",
       "      <th>checkpoint</th>\n",
       "      <th>trait</th>\n",
       "      <th>threshold</th>\n",
       "      <th>total</th>\n",
       "      <th>ge_threshold</th>\n",
       "      <th>fract</th>\n",
       "      <th>tp</th>\n",
       "      <th>tn</th>\n",
       "      <th>fp</th>\n",
       "      <th>fn</th>\n",
       "      <th>accuracy</th>\n",
       "      <th>recall</th>\n",
       "      <th>ppv</th>\n",
       "    </tr>\n",
       "  </thead>\n",
       "  <tbody>\n",
       "    <tr>\n",
       "      <th>9784</th>\n",
       "      <td>data/local/effnet_456_flowers_pos/checkpoint-1075</td>\n",
       "      <td>flowers</td>\n",
       "      <td>0.84</td>\n",
       "      <td>883</td>\n",
       "      <td>692.0</td>\n",
       "      <td>0.783692</td>\n",
       "      <td>194.0</td>\n",
       "      <td>298.0</td>\n",
       "      <td>13.0</td>\n",
       "      <td>187.0</td>\n",
       "      <td>0.710983</td>\n",
       "      <td>0.509186</td>\n",
       "      <td>0.937198</td>\n",
       "    </tr>\n",
       "  </tbody>\n",
       "</table>\n",
       "</div>"
      ],
      "text/plain": [
       "                                             checkpoint    trait  threshold  \\\n",
       "9784  data/local/effnet_456_flowers_pos/checkpoint-1075  flowers       0.84   \n",
       "\n",
       "      total  ge_threshold     fract     tp     tn    fp     fn  accuracy  \\\n",
       "9784    883         692.0  0.783692  194.0  298.0  13.0  187.0  0.710983   \n",
       "\n",
       "        recall       ppv  \n",
       "9784  0.509186  0.937198  "
      ]
     },
     "execution_count": 8,
     "metadata": {},
     "output_type": "execute_result"
    }
   ],
   "source": [
    "print(\n",
    "    f\"tp = {df_fl.iloc[0]['tp']:4.0f}    fn = {df_fl.iloc[0]['fn']:4.0f}\\n\"\n",
    "    f\"fp = {df_fl.iloc[0]['fp']:4.0f}    tn = {df_fl.iloc[0]['tn']:4.0f}\"\n",
    ")\n",
    "\n",
    "df_fl.head()"
   ]
  },
  {
   "cell_type": "markdown",
   "id": "f1bed5bd-167b-457b-9b93-056512085876",
   "metadata": {},
   "source": [
    "## Fruits"
   ]
  },
  {
   "cell_type": "code",
   "execution_count": 24,
   "id": "aed0a113-5da6-43f4-931f-47c81871d661",
   "metadata": {},
   "outputs": [
    {
     "data": {
      "text/plain": [
       "(0, 13)"
      ]
     },
     "execution_count": 24,
     "metadata": {},
     "output_type": "execute_result"
    }
   ],
   "source": [
    "df_fr = DF.loc[(DF[\"fract\"] >= FRACT_CUTOFF) & (DF[\"trait\"] == \"fruits\") & (DF[\"recall\"] >= RECALL_CUTOFF)]\n",
    "df_fr = df_fr.loc[(df_fl[\"fp\"] / df_fr[\"tp\"]) <= FP_CUTOFF]\n",
    "df_fr.shape"
   ]
  },
  {
   "cell_type": "code",
   "execution_count": 10,
   "id": "3ad1d90a-4f9c-4f34-8fab-75487065c58b",
   "metadata": {},
   "outputs": [
    {
     "name": "stdout",
     "output_type": "stream",
     "text": [
      "best = 0.8552036199095022\n"
     ]
    },
    {
     "data": {
      "text/plain": [
       "(1, 13)"
      ]
     },
     "execution_count": 10,
     "metadata": {},
     "output_type": "execute_result"
    }
   ],
   "source": [
    "best = df_fr[\"ppv\"].max()\n",
    "print(f\"best = {best}\")\n",
    "df_fr = df_fr.loc[df_fr[\"ppv\"] == best]\n",
    "df_fr.shape"
   ]
  },
  {
   "cell_type": "code",
   "execution_count": 11,
   "id": "a26cebb6-838f-4283-9136-c0bfc6d1f090",
   "metadata": {},
   "outputs": [
    {
     "name": "stdout",
     "output_type": "stream",
     "text": [
      "most = 0.77\n"
     ]
    },
    {
     "data": {
      "text/plain": [
       "(1, 13)"
      ]
     },
     "execution_count": 11,
     "metadata": {},
     "output_type": "execute_result"
    }
   ],
   "source": [
    "most = df_fr[\"fract\"].max()\n",
    "print(f\"most = {most}\")\n",
    "df_fr = df_fr.loc[df_fr[\"fract\"] == most]\n",
    "df_fr.shape"
   ]
  },
  {
   "cell_type": "code",
   "execution_count": 12,
   "id": "08ae019d-8843-4fa8-b4bd-ca366c644f4e",
   "metadata": {},
   "outputs": [
    {
     "name": "stdout",
     "output_type": "stream",
     "text": [
      "tp =  189    fn =  127\n",
      "fp =   32    tn =  268\n"
     ]
    },
    {
     "data": {
      "text/html": [
       "<div>\n",
       "<style scoped>\n",
       "    .dataframe tbody tr th:only-of-type {\n",
       "        vertical-align: middle;\n",
       "    }\n",
       "\n",
       "    .dataframe tbody tr th {\n",
       "        vertical-align: top;\n",
       "    }\n",
       "\n",
       "    .dataframe thead th {\n",
       "        text-align: right;\n",
       "    }\n",
       "</style>\n",
       "<table border=\"1\" class=\"dataframe\">\n",
       "  <thead>\n",
       "    <tr style=\"text-align: right;\">\n",
       "      <th></th>\n",
       "      <th>checkpoint</th>\n",
       "      <th>trait</th>\n",
       "      <th>threshold</th>\n",
       "      <th>total</th>\n",
       "      <th>ge_threshold</th>\n",
       "      <th>fract</th>\n",
       "      <th>tp</th>\n",
       "      <th>tn</th>\n",
       "      <th>fp</th>\n",
       "      <th>fn</th>\n",
       "      <th>accuracy</th>\n",
       "      <th>recall</th>\n",
       "      <th>ppv</th>\n",
       "    </tr>\n",
       "  </thead>\n",
       "  <tbody>\n",
       "    <tr>\n",
       "      <th>5945</th>\n",
       "      <td>data/tuned/vit_384_base_hf/checkpoint-437</td>\n",
       "      <td>fruits</td>\n",
       "      <td>0.95</td>\n",
       "      <td>800</td>\n",
       "      <td>616.0</td>\n",
       "      <td>0.77</td>\n",
       "      <td>189.0</td>\n",
       "      <td>268.0</td>\n",
       "      <td>32.0</td>\n",
       "      <td>127.0</td>\n",
       "      <td>0.741883</td>\n",
       "      <td>0.598101</td>\n",
       "      <td>0.855204</td>\n",
       "    </tr>\n",
       "  </tbody>\n",
       "</table>\n",
       "</div>"
      ],
      "text/plain": [
       "                                     checkpoint   trait  threshold  total  \\\n",
       "5945  data/tuned/vit_384_base_hf/checkpoint-437  fruits       0.95    800   \n",
       "\n",
       "      ge_threshold  fract     tp     tn    fp     fn  accuracy    recall  \\\n",
       "5945         616.0   0.77  189.0  268.0  32.0  127.0  0.741883  0.598101   \n",
       "\n",
       "           ppv  \n",
       "5945  0.855204  "
      ]
     },
     "execution_count": 12,
     "metadata": {},
     "output_type": "execute_result"
    }
   ],
   "source": [
    "print(\n",
    "    f\"tp = {df_fr.iloc[0]['tp']:4.0f}    fn = {df_fr.iloc[0]['fn']:4.0f}\\n\"\n",
    "    f\"fp = {df_fr.iloc[0]['fp']:4.0f}    tn = {df_fr.iloc[0]['tn']:4.0f}\"\n",
    ")\n",
    "\n",
    "df_fr.head()"
   ]
  },
  {
   "cell_type": "markdown",
   "id": "0de111ef-63e2-43b4-8fb5-71805f756c23",
   "metadata": {},
   "source": [
    "## Leaves"
   ]
  },
  {
   "cell_type": "code",
   "execution_count": 25,
   "id": "c55f9297-8ab1-4777-b491-8845dfc716dd",
   "metadata": {},
   "outputs": [
    {
     "data": {
      "text/plain": [
       "(0, 13)"
      ]
     },
     "execution_count": 25,
     "metadata": {},
     "output_type": "execute_result"
    }
   ],
   "source": [
    "df_lf = DF.loc[(DF[\"fract\"] >= FRACT_CUTOFF) & (DF[\"trait\"] == \"leaves\") & (DF[\"recall\"] >= RECALL_CUTOFF)]\n",
    "df_lf = df_lf.loc[(df_fl[\"fp\"] / df_lf[\"tp\"]) <= FP_CUTOFF]\n",
    "df_lf.shape"
   ]
  },
  {
   "cell_type": "code",
   "execution_count": 14,
   "id": "337d35a4-5d0c-461b-9669-f7cf34a2a853",
   "metadata": {},
   "outputs": [
    {
     "name": "stdout",
     "output_type": "stream",
     "text": [
      "best = 1.0\n"
     ]
    },
    {
     "data": {
      "text/plain": [
       "(16, 13)"
      ]
     },
     "execution_count": 14,
     "metadata": {},
     "output_type": "execute_result"
    }
   ],
   "source": [
    "best = df_lf[\"ppv\"].max()\n",
    "print(f\"best = {best}\")\n",
    "df_lf = df_lf.loc[df_lf[\"ppv\"] == best]\n",
    "df_lf.shape"
   ]
  },
  {
   "cell_type": "code",
   "execution_count": 15,
   "id": "194a47e6-8026-4f6b-9029-54e4c2f0c943",
   "metadata": {},
   "outputs": [
    {
     "name": "stdout",
     "output_type": "stream",
     "text": [
      "most = 1.0\n"
     ]
    },
    {
     "data": {
      "text/plain": [
       "(1, 13)"
      ]
     },
     "execution_count": 15,
     "metadata": {},
     "output_type": "execute_result"
    }
   ],
   "source": [
    "most = df_lf[\"fract\"].max()\n",
    "print(f\"most = {most}\")\n",
    "df_lf = df_lf.loc[df_lf[\"fract\"] == most]\n",
    "df_lf.shape"
   ]
  },
  {
   "cell_type": "code",
   "execution_count": 16,
   "id": "2b9b87d2-5973-4b50-9f2d-e0f8984d1ae4",
   "metadata": {},
   "outputs": [
    {
     "name": "stdout",
     "output_type": "stream",
     "text": [
      "tp =  561    fn =  386\n",
      "fp =    0    tn =   39\n"
     ]
    },
    {
     "data": {
      "text/html": [
       "<div>\n",
       "<style scoped>\n",
       "    .dataframe tbody tr th:only-of-type {\n",
       "        vertical-align: middle;\n",
       "    }\n",
       "\n",
       "    .dataframe tbody tr th {\n",
       "        vertical-align: top;\n",
       "    }\n",
       "\n",
       "    .dataframe thead th {\n",
       "        text-align: right;\n",
       "    }\n",
       "</style>\n",
       "<table border=\"1\" class=\"dataframe\">\n",
       "  <thead>\n",
       "    <tr style=\"text-align: right;\">\n",
       "      <th></th>\n",
       "      <th>checkpoint</th>\n",
       "      <th>trait</th>\n",
       "      <th>threshold</th>\n",
       "      <th>total</th>\n",
       "      <th>ge_threshold</th>\n",
       "      <th>fract</th>\n",
       "      <th>tp</th>\n",
       "      <th>tn</th>\n",
       "      <th>fp</th>\n",
       "      <th>fn</th>\n",
       "      <th>accuracy</th>\n",
       "      <th>recall</th>\n",
       "      <th>ppv</th>\n",
       "    </tr>\n",
       "  </thead>\n",
       "  <tbody>\n",
       "    <tr>\n",
       "      <th>17950</th>\n",
       "      <td>data/tuned/vit_384_lg_leaves_prec_wt/checkpoin...</td>\n",
       "      <td>leaves</td>\n",
       "      <td>0.5</td>\n",
       "      <td>986</td>\n",
       "      <td>986.0</td>\n",
       "      <td>1.0</td>\n",
       "      <td>561.0</td>\n",
       "      <td>39.0</td>\n",
       "      <td>0.0</td>\n",
       "      <td>386.0</td>\n",
       "      <td>0.608519</td>\n",
       "      <td>0.592397</td>\n",
       "      <td>1.0</td>\n",
       "    </tr>\n",
       "  </tbody>\n",
       "</table>\n",
       "</div>"
      ],
      "text/plain": [
       "                                              checkpoint   trait  threshold  \\\n",
       "17950  data/tuned/vit_384_lg_leaves_prec_wt/checkpoin...  leaves        0.5   \n",
       "\n",
       "       total  ge_threshold  fract     tp    tn   fp     fn  accuracy  \\\n",
       "17950    986         986.0    1.0  561.0  39.0  0.0  386.0  0.608519   \n",
       "\n",
       "         recall  ppv  \n",
       "17950  0.592397  1.0  "
      ]
     },
     "execution_count": 16,
     "metadata": {},
     "output_type": "execute_result"
    }
   ],
   "source": [
    "print(\n",
    "    f\"tp = {df_lf.iloc[0]['tp']:4.0f}    fn = {df_lf.iloc[0]['fn']:4.0f}\\n\"\n",
    "    f\"fp = {df_lf.iloc[0]['fp']:4.0f}    tn = {df_lf.iloc[0]['tn']:4.0f}\"\n",
    ")\n",
    "\n",
    "df_lf.head()"
   ]
  },
  {
   "cell_type": "code",
   "execution_count": null,
   "id": "919abac0-5469-4237-8d54-3517c6d2c499",
   "metadata": {},
   "outputs": [],
   "source": []
  }
 ],
 "metadata": {
  "kernelspec": {
   "display_name": "Python 3 (ipykernel)",
   "language": "python",
   "name": "python3"
  },
  "language_info": {
   "codemirror_mode": {
    "name": "ipython",
    "version": 3
   },
   "file_extension": ".py",
   "mimetype": "text/x-python",
   "name": "python",
   "nbconvert_exporter": "python",
   "pygments_lexer": "ipython3",
   "version": "3.11.10"
  }
 },
 "nbformat": 4,
 "nbformat_minor": 5
}
